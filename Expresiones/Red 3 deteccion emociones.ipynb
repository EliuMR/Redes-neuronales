{
 "cells": [
  {
   "cell_type": "code",
   "execution_count": 3,
   "metadata": {
    "executionInfo": {
     "elapsed": 662,
     "status": "ok",
     "timestamp": 1620074695207,
     "user": {
      "displayName": "Hiesker Tronco",
      "photoUrl": "",
      "userId": "15754113249199284305"
     },
     "user_tz": 300
    },
    "id": "eHgwp6o58Xgw"
   },
   "outputs": [],
   "source": [
    "import numpy as np\n",
    "import os\n",
    "import re\n",
    "import matplotlib.pyplot as plt\n",
    "%matplotlib inline\n",
    "from sklearn.model_selection import train_test_split\n",
    "from sklearn.metrics import classification_report"
   ]
  },
  {
   "cell_type": "code",
   "execution_count": 4,
   "metadata": {
    "executionInfo": {
     "elapsed": 1830,
     "status": "ok",
     "timestamp": 1620074697839,
     "user": {
      "displayName": "Hiesker Tronco",
      "photoUrl": "",
      "userId": "15754113249199284305"
     },
     "user_tz": 300
    },
    "id": "dNdqr6KJ8wHf"
   },
   "outputs": [],
   "source": [
    "import keras\n",
    "from keras.utils import to_categorical\n",
    "from keras.models import Sequential,Input,Model\n",
    "from keras.layers import Dense, Dropout, Flatten\n",
    "from keras.layers import Conv2D, MaxPooling2D\n",
    "from keras.layers.normalization import BatchNormalization\n",
    "from keras.layers.advanced_activations import LeakyReLU"
   ]
  },
  {
   "cell_type": "code",
   "execution_count": null,
   "metadata": {
    "executionInfo": {
     "elapsed": 2130,
     "status": "aborted",
     "timestamp": 1620074687994,
     "user": {
      "displayName": "Hiesker Tronco",
      "photoUrl": "",
      "userId": "15754113249199284305"
     },
     "user_tz": 300
    },
    "id": "osWnG0WE8zGu"
   },
   "outputs": [],
   "source": [
    "\n",
    "from PIL import Image\n",
    "\n",
    "#Cargamos imágenes de entrenamiento\n",
    "dirname = os.path.join(os.getcwd(), '/content/drive/MyDrive/archive.zip (Unzipped Files)/Expresiones/dataset/Training')\n",
    "imgpath = dirname + os.sep \n",
    " \n",
    "images = []\n",
    "directories = []\n",
    "dircount = []\n",
    "prevRoot=''\n",
    "cant=0\n",
    "\n",
    "print(\"leyendo imagenes de \",imgpath)\n",
    "for root, dirnames, filenames in os.walk(imgpath):\n",
    "    for filename in filenames:\n",
    "        if re.search(\"\\.(jpg|jpeg|png|bmp|tiff)$\", filename):\n",
    "            cant=cant+1\n",
    "            filepath = os.path.join(root, filename)\n",
    "            image=Image.open(filepath)\n",
    "            new_img = image.resize((40,40))#Redimencionamos todas las imagenes a un mismo tamaño\n",
    "            new_img.save('s.png','png')#Las guardamos\n",
    "            image = plt.imread('s.png')#Las leemos pero ahora para convertirlas en arrays\n",
    "            if len(image.shape)==3:#Las imagenes que son a color las filtramos para convertirlas a blanco y negro\n",
    "              image=Image.open(filepath)\n",
    "              image=image.convert('L')#Convertimos la imagen en blanco y negro\n",
    "              new_img = image.resize((40,40))#Aquí redimencionamos porque abrimos la imagen original no la recortada\n",
    "              new_img.save('s.png','png')\n",
    "              image = plt.imread('s.png')\n",
    "            images.append(image)\n",
    "            b = \"Leyendo...\" + str(cant)\n",
    "            print (b, end=\"\\r\")\n",
    "            if prevRoot !=root:\n",
    "                print(root, cant)\n",
    "                prevRoot=root\n",
    "                directories.append(root)\n",
    "                dircount.append(cant)\n",
    "                cant=0\n",
    "dircount.append(cant)\n",
    " \n",
    "dircount = dircount[1:]\n",
    "dircount[0]=dircount[0]+1\n",
    "print('Directorios leidos:',len(directories),directories)\n",
    "print(\"Imagenes en cada directorio\", dircount)\n",
    "print('suma Total de imagenes en subdirectorios:',sum(dircount))"
   ]
  },
  {
   "cell_type": "code",
   "execution_count": null,
   "metadata": {
    "executionInfo": {
     "elapsed": 2116,
     "status": "aborted",
     "timestamp": 1620074687996,
     "user": {
      "displayName": "Hiesker Tronco",
      "photoUrl": "",
      "userId": "15754113249199284305"
     },
     "user_tz": 300
    },
    "id": "MlRgrfEs23Nf"
   },
   "outputs": [],
   "source": [
    "expresiones=[]\n",
    "indice=0\n",
    "for directorio in directories:\n",
    "    name = directorio.split(os.sep)\n",
    "    print(indice , name[len(name)-1])\n",
    "    expresiones.append(name[len(name)-1])\n",
    "    indice=indice+1"
   ]
  },
  {
   "cell_type": "code",
   "execution_count": null,
   "metadata": {
    "executionInfo": {
     "elapsed": 2105,
     "status": "aborted",
     "timestamp": 1620074687999,
     "user": {
      "displayName": "Hiesker Tronco",
      "photoUrl": "",
      "userId": "15754113249199284305"
     },
     "user_tz": 300
    },
    "id": "sfUPy1bwghkY"
   },
   "outputs": [],
   "source": [
    "#Creamos las etiquetas\n",
    "labels=[]\n",
    "indice=0\n",
    "for cantidad in dircount:\n",
    "    for i in range(cantidad):\n",
    "        labels.append(indice)\n",
    "    indice=indice+1\n",
    "print(\"Cantidad etiquetas creadas: \",len(labels))"
   ]
  },
  {
   "cell_type": "code",
   "execution_count": null,
   "metadata": {
    "executionInfo": {
     "elapsed": 2089,
     "status": "aborted",
     "timestamp": 1620074688001,
     "user": {
      "displayName": "Hiesker Tronco",
      "photoUrl": "",
      "userId": "15754113249199284305"
     },
     "user_tz": 300
    },
    "id": "l700RjSHiPAa"
   },
   "outputs": [],
   "source": [
    "#convierto de lista a numpy\n",
    "y = np.array(labels)\n",
    "X = np.array(images) \n",
    "\n",
    "\n",
    "classes = np.unique(y)\n",
    "nClasses = len(classes)\n",
    "print('Total de número de salidad: ', nClasses)\n",
    "\n",
    "print('Salida de cada clase : ', classes)\n",
    "train_X=X\n",
    "train_Y=y\n",
    "print('Training data shape : ', train_X.shape, train_Y.shape)"
   ]
  },
  {
   "cell_type": "code",
   "execution_count": null,
   "metadata": {
    "executionInfo": {
     "elapsed": 2068,
     "status": "aborted",
     "timestamp": 1620074688004,
     "user": {
      "displayName": "Hiesker Tronco",
      "photoUrl": "",
      "userId": "15754113249199284305"
     },
     "user_tz": 300
    },
    "id": "hV1DfgB1iaqu"
   },
   "outputs": [],
   "source": [
    "\n",
    "plt.figure(figsize=[10,10])\n",
    "print(train_X.shape)\n",
    "# Display the first image in training data\n",
    "plt.subplot(121)\n",
    "plt.imshow(train_X[0,:,:],cmap='gray')\n",
    "plt.title(\"Ground Truth : {}\".format(train_Y[0]))\n",
    "\n",
    "# Display the first image in testing data\n",
    "plt.subplot(122)\n",
    "plt.imshow(train_X[20222,:,:], cmap='gray')\n",
    "plt.title(\"Ground Truth : {}\".format(train_Y[20222]))"
   ]
  },
  {
   "cell_type": "code",
   "execution_count": null,
   "metadata": {
    "executionInfo": {
     "elapsed": 2028,
     "status": "aborted",
     "timestamp": 1620074688007,
     "user": {
      "displayName": "Hiesker Tronco",
      "photoUrl": "",
      "userId": "15754113249199284305"
     },
     "user_tz": 300
    },
    "id": "SDUeLXX2ifum"
   },
   "outputs": [],
   "source": [
    "\n",
    "#Cargamos imágenes de testeo\n",
    "dirname = os.path.join(os.getcwd(), '/content/drive/MyDrive/archive.zip (Unzipped Files)/Expresiones/dataset/Testing')\n",
    "imgpath = dirname + os.sep \n",
    " \n",
    "images = []\n",
    "directories = []\n",
    "dircount = []\n",
    "prevRoot=''\n",
    "cant=0\n",
    "\n",
    "print(\"leyendo imagenes de \",imgpath)\n",
    "for root, dirnames, filenames in os.walk(imgpath):\n",
    "    for filename in filenames:\n",
    "        if re.search(\"\\.(jpg|jpeg|png|bmp|tiff)$\", filename):\n",
    "            cant=cant+1\n",
    "            filepath = os.path.join(root, filename)\n",
    "            image=Image.open(filepath)\n",
    "            new_img = image.resize((40,40))\n",
    "            new_img.save('s.png','png')\n",
    "            image = plt.imread('s.png')#Cortamos las imágenes\n",
    "            if len(image.shape)==3:\n",
    "              image=Image.open(filepath)\n",
    "              image=image.convert('L')\n",
    "              new_img = image.resize((40,40))\n",
    "              new_img.save('s.png','png')\n",
    "              image = plt.imread('s.png')\n",
    "            images.append(image)\n",
    "            b = \"Leyendo...\" + str(cant)\n",
    "            print (b, end=\"\\r\")\n",
    "            if prevRoot !=root:\n",
    "                print(root, cant)\n",
    "                prevRoot=root\n",
    "                directories.append(root)\n",
    "                dircount.append(cant)\n",
    "                cant=0\n",
    "dircount.append(cant)\n",
    " \n",
    "dircount = dircount[1:]\n",
    "dircount[0]=dircount[0]+1\n",
    "print('Directorios leidos:',len(directories))\n",
    "print(\"Imagenes en cada directorio\", dircount)\n",
    "print('suma Total de imagenes en subdirectorios:',sum(dircount))"
   ]
  },
  {
   "cell_type": "code",
   "execution_count": null,
   "metadata": {
    "executionInfo": {
     "elapsed": 2002,
     "status": "aborted",
     "timestamp": 1620074688011,
     "user": {
      "displayName": "Hiesker Tronco",
      "photoUrl": "",
      "userId": "15754113249199284305"
     },
     "user_tz": 300
    },
    "id": "OsiAWBh53doe"
   },
   "outputs": [],
   "source": [
    " #Creamos las etiquetas\n",
    "labels=[]\n",
    "indice=0\n",
    "for cantidad in dircount:\n",
    "    for i in range(cantidad):\n",
    "        labels.append(indice)\n",
    "    indice=indice+1\n",
    "print(\"Cantidad etiquetas creadas: \",len(labels))"
   ]
  },
  {
   "cell_type": "code",
   "execution_count": null,
   "metadata": {
    "executionInfo": {
     "elapsed": 1990,
     "status": "aborted",
     "timestamp": 1620074688013,
     "user": {
      "displayName": "Hiesker Tronco",
      "photoUrl": "",
      "userId": "15754113249199284305"
     },
     "user_tz": 300
    },
    "id": "o_PsDsmY-4KU"
   },
   "outputs": [],
   "source": [
    "#Indicamos la etiquiqueta con el nombre de la flor\n",
    "diagnostico=[]\n",
    "indice=0\n",
    "for directorio in directories:\n",
    "    name = directorio.split(os.sep)\n",
    "    print(indice , name[len(name)-1])\n",
    "    diagnostico.append(name[len(name)-1])\n",
    "    indice=indice+1"
   ]
  },
  {
   "cell_type": "code",
   "execution_count": null,
   "metadata": {
    "executionInfo": {
     "elapsed": 1977,
     "status": "aborted",
     "timestamp": 1620074688013,
     "user": {
      "displayName": "Hiesker Tronco",
      "photoUrl": "",
      "userId": "15754113249199284305"
     },
     "user_tz": 300
    },
    "id": "Rgm2F04h-_xA"
   },
   "outputs": [],
   "source": [
    "#convierto de lista a numpy\n",
    "y = np.array(labels)\n",
    "X = np.array(images) \n",
    "\n",
    "\n",
    "classes = np.unique(y)\n",
    "nClasses = len(classes)\n",
    "print('Total de número de salidad: ', nClasses)\n",
    "\n",
    "print('Salida de cada clase : ', classes)\n",
    "test_X=X\n",
    "test_Y=y\n",
    "print('Training data shape : ', test_X.shape, test_Y.shape)"
   ]
  },
  {
   "cell_type": "code",
   "execution_count": null,
   "metadata": {
    "executionInfo": {
     "elapsed": 1951,
     "status": "aborted",
     "timestamp": 1620074688015,
     "user": {
      "displayName": "Hiesker Tronco",
      "photoUrl": "",
      "userId": "15754113249199284305"
     },
     "user_tz": 300
    },
    "id": "Hd2mKB5s_sFh"
   },
   "outputs": [],
   "source": [
    "#Graficamos un par de imagenes\n",
    "plt.figure(figsize=[10,10])\n",
    "\n",
    "plt.subplot(121)\n",
    "plt.imshow(test_X[0,:,:],cmap='gray')\n",
    "plt.title(\"Ground Truth : {}\".format(train_Y[0]))\n",
    "\n",
    "plt.subplot(122)\n",
    "plt.imshow(test_X[1220,:,:], cmap='gray')\n",
    "plt.title(\"Ground Truth : {}\".format(test_Y[1220]))"
   ]
  },
  {
   "cell_type": "code",
   "execution_count": null,
   "metadata": {
    "executionInfo": {
     "elapsed": 1935,
     "status": "aborted",
     "timestamp": 1620074688016,
     "user": {
      "displayName": "Hiesker Tronco",
      "photoUrl": "",
      "userId": "15754113249199284305"
     },
     "user_tz": 300
    },
    "id": "pmpMroaG_4f5"
   },
   "outputs": [],
   "source": [
    "# Cambiamos las etiquetas a one-hot encondig\n",
    "train_Y_one_hot = to_categorical(train_Y)\n",
    "test_Y_one_hot = to_categorical(test_Y)\n",
    "\n",
    "\n",
    "print('Etiqueta original:', train_Y[0])\n",
    "print('Etiqueta en one-hot:', train_Y_one_hot[0])"
   ]
  },
  {
   "cell_type": "code",
   "execution_count": null,
   "metadata": {
    "executionInfo": {
     "elapsed": 1932,
     "status": "aborted",
     "timestamp": 1620074688017,
     "user": {
      "displayName": "Hiesker Tronco",
      "photoUrl": "",
      "userId": "15754113249199284305"
     },
     "user_tz": 300
    },
    "id": "w5P55YCTAFbM"
   },
   "outputs": [],
   "source": [
    "#Crear los grupos de entrenamiento y validación\n",
    "train_X,valid_X,train_label,valid_label = train_test_split(train_X, train_Y_one_hot, test_size=0.1, random_state=13)"
   ]
  },
  {
   "cell_type": "code",
   "execution_count": null,
   "metadata": {
    "executionInfo": {
     "elapsed": 1920,
     "status": "aborted",
     "timestamp": 1620074688028,
     "user": {
      "displayName": "Hiesker Tronco",
      "photoUrl": "",
      "userId": "15754113249199284305"
     },
     "user_tz": 300
    },
    "id": "YngVrxloAN7r"
   },
   "outputs": [],
   "source": [
    "print(train_X.shape,valid_X.shape,train_label.shape,valid_label.shape)"
   ]
  },
  {
   "cell_type": "code",
   "execution_count": null,
   "metadata": {
    "executionInfo": {
     "elapsed": 1926,
     "status": "aborted",
     "timestamp": 1620074688039,
     "user": {
      "displayName": "Hiesker Tronco",
      "photoUrl": "",
      "userId": "15754113249199284305"
     },
     "user_tz": 300
    },
    "id": "D-eiA8Q6AT-Q"
   },
   "outputs": [],
   "source": [
    "#declaramos variables con los parámetros de configuración de la red\n",
    "INIT_LR = .2 # Valor inicial de learning rate. El valor 1e-3 corresponde con 0.001\n",
    "epochs = 30 # Cantidad de iteraciones completas al conjunto de imagenes de entrenamiento\n",
    "batch_size = 30 # cantidad de imágenes que se toman a la vez en memoria"
   ]
  },
  {
   "cell_type": "code",
   "execution_count": null,
   "metadata": {
    "executionInfo": {
     "elapsed": 1923,
     "status": "aborted",
     "timestamp": 1620074688040,
     "user": {
      "displayName": "Hiesker Tronco",
      "photoUrl": "",
      "userId": "15754113249199284305"
     },
     "user_tz": 300
    },
    "id": "zSpTDg50AdKr"
   },
   "outputs": [],
   "source": [
    "expresion_model = Sequential()\n",
    "expresion_model.add(Conv2D(64, kernel_size=(3, 3),activation='relu',padding='same',input_shape=(40,40,1)))\n",
    "expresion_model.add(MaxPooling2D((2, 2),padding='same'))\n",
    "\n",
    "\n",
    "expresion_model.add(Conv2D(128, kernel_size=(5, 5),activation='relu',padding='same'))\n",
    "expresion_model.add(MaxPooling2D((2, 2),padding='same'))\n",
    "\n",
    "expresion_model.add(Conv2D(254, kernel_size=(3, 3),activation='relu',padding='same'))\n",
    "expresion_model.add(MaxPooling2D((2, 2),padding='same'))\n",
    "\n",
    "expresion_model.add(Flatten())\n",
    "expresion_model.add(Dense(512, activation='relu'))\n",
    "expresion_model.add(Dropout(0.10))\n",
    "\n",
    "expresion_model.add(Dense(5, activation='softmax'))"
   ]
  },
  {
   "cell_type": "code",
   "execution_count": null,
   "metadata": {
    "executionInfo": {
     "elapsed": 1921,
     "status": "aborted",
     "timestamp": 1620074688042,
     "user": {
      "displayName": "Hiesker Tronco",
      "photoUrl": "",
      "userId": "15754113249199284305"
     },
     "user_tz": 300
    },
    "id": "wFia--TuAj1D"
   },
   "outputs": [],
   "source": [
    "expresion_model.compile(loss=keras.losses.categorical_crossentropy, \n",
    "                     optimizer=keras.optimizers.Adagrad(lr=INIT_LR, decay=INIT_LR / 100),\n",
    "                     metrics=['accuracy'])"
   ]
  },
  {
   "cell_type": "code",
   "execution_count": null,
   "metadata": {
    "executionInfo": {
     "elapsed": 1906,
     "status": "aborted",
     "timestamp": 1620074688043,
     "user": {
      "displayName": "Hiesker Tronco",
      "photoUrl": "",
      "userId": "15754113249199284305"
     },
     "user_tz": 300
    },
    "id": "gwD26_AhApuW"
   },
   "outputs": [],
   "source": [
    "# Modificamos la dimensión de las imágenes de (40,40) a  ( 40, 40, 1) para que no haya problema con la lectura de datos\n",
    "train_X = np.copy(train_X)[...,None]\n",
    "test_X = np.copy(test_X)[...,None]\n",
    "valid_X= np.copy(valid_X)[...,None]\n",
    "print(train_X.shape,test_X.shape,valid_X.shape)"
   ]
  },
  {
   "cell_type": "code",
   "execution_count": null,
   "metadata": {
    "executionInfo": {
     "elapsed": 1893,
     "status": "aborted",
     "timestamp": 1620074688044,
     "user": {
      "displayName": "Hiesker Tronco",
      "photoUrl": "",
      "userId": "15754113249199284305"
     },
     "user_tz": 300
    },
    "id": "tsxW1-D4AtKy"
   },
   "outputs": [],
   "source": [
    "expresion_train = expresion_model.fit(train_X, \n",
    "                                train_label, \n",
    "                                batch_size=batch_size,\n",
    "                                epochs=epochs,\n",
    "                                verbose=1,\n",
    "                                validation_data=(valid_X, valid_label))"
   ]
  },
  {
   "cell_type": "code",
   "execution_count": null,
   "metadata": {
    "executionInfo": {
     "elapsed": 1876,
     "status": "aborted",
     "timestamp": 1620074688045,
     "user": {
      "displayName": "Hiesker Tronco",
      "photoUrl": "",
      "userId": "15754113249199284305"
     },
     "user_tz": 300
    },
    "id": "-qA5bwXNCeQk"
   },
   "outputs": [],
   "source": [
    "# summarize history for accuracy\n",
    "plt.plot(expresion_train.history['accuracy'])\n",
    "plt.plot(expresion_train.history['val_accuracy'])\n",
    "plt.title('model accuracy')\n",
    "plt.ylabel('accuracy')\n",
    "plt.xlabel('epoch')\n",
    "plt.legend(['train', 'test'], loc='upper left')\n",
    "plt.show()"
   ]
  },
  {
   "cell_type": "code",
   "execution_count": null,
   "metadata": {
    "executionInfo": {
     "elapsed": 1859,
     "status": "aborted",
     "timestamp": 1620074688049,
     "user": {
      "displayName": "Hiesker Tronco",
      "photoUrl": "",
      "userId": "15754113249199284305"
     },
     "user_tz": 300
    },
    "id": "yxMHCurWEfsM"
   },
   "outputs": [],
   "source": [
    "plt.plot(expresion_train.history['loss'])\n",
    "plt.plot(expresion_train.history['val_loss'])\n",
    "plt.title('model loss')\n",
    "plt.ylabel('loss')\n",
    "plt.xlabel('epoch')\n",
    "plt.legend(['train', 'test'], loc='upper left')\n",
    "plt.show()"
   ]
  }
 ],
 "metadata": {
  "colab": {
   "authorship_tag": "ABX9TyNnajhE46CLjnLWOj5q871z",
   "mount_file_id": "1EviWn5JSlbavBeTBohms_g34jV2JdzeL",
   "name": "Expresiones.ipynb",
   "provenance": []
  },
  "kernelspec": {
   "display_name": "Python 3",
   "language": "python",
   "name": "python3"
  },
  "language_info": {
   "codemirror_mode": {
    "name": "ipython",
    "version": 3
   },
   "file_extension": ".py",
   "mimetype": "text/x-python",
   "name": "python",
   "nbconvert_exporter": "python",
   "pygments_lexer": "ipython3",
   "version": "3.6.9"
  }
 },
 "nbformat": 4,
 "nbformat_minor": 1
}
