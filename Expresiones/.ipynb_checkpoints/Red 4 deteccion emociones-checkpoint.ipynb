{
 "cells": [
  {
   "cell_type": "code",
   "execution_count": 1,
   "metadata": {
    "executionInfo": {
     "elapsed": 3771,
     "status": "ok",
     "timestamp": 1628197135290,
     "user": {
      "displayName": "Hiesker Tronco",
      "photoUrl": "",
      "userId": "15754113249199284305"
     },
     "user_tz": 300
    },
    "id": "ZXYlfvJVmJf3"
   },
   "outputs": [],
   "source": [
    "from os import listdir\n",
    "from os.path import isfile,isdir, join\n",
    "import cv2\n",
    "from google.colab.patches import cv2_imshow\n",
    "import keras\n",
    "from keras.preprocessing.image import ImageDataGenerator\n",
    "from keras.preprocessing import image\n",
    "from keras import layers, models\n",
    "from keras.models import Sequential\n",
    "from keras.layers import Dense,Conv2D, Dropout,Activation,MaxPooling2D,Flatten\n",
    "from keras.optimizers import RMSprop \n",
    "from sklearn.model_selection import train_test_split\n",
    "from PIL import Image\n",
    "import matplotlib.pyplot as plt\n",
    "import numpy as np\n"
   ]
  },
  {
   "cell_type": "code",
   "execution_count": 2,
   "metadata": {
    "colab": {
     "base_uri": "https://localhost:8080/"
    },
    "executionInfo": {
     "elapsed": 58360,
     "status": "ok",
     "timestamp": 1628197195132,
     "user": {
      "displayName": "Hiesker Tronco",
      "photoUrl": "",
      "userId": "15754113249199284305"
     },
     "user_tz": 300
    },
    "id": "aQzRy5nYcRmO",
    "outputId": "ef88d2d0-9998-4d24-8df4-4eabeaac128d"
   },
   "outputs": [
    {
     "name": "stdout",
     "output_type": "stream",
     "text": [
      "1130\n",
      "Found 28273 images belonging to 6 classes.\n",
      "Found 7067 images belonging to 6 classes.\n"
     ]
    }
   ],
   "source": [
    "#Autor:Eliú Moreno Ramírez\n",
    "#Fecha: Mayo 2021\n",
    "\n",
    "from os import listdir\n",
    "from os.path import isfile,isdir, join\n",
    "import numpy\n",
    "\n",
    "import keras\n",
    "from keras.preprocessing.image import ImageDataGenerator\n",
    "from keras.preprocessing import image\n",
    "from keras import layers, models\n",
    "from keras.models import Sequential\n",
    "from keras.layers import Dense,Conv2D, Dropout,Activation,MaxPooling2D,Flatten\n",
    "from keras.optimizers import RMSprop \n",
    "\n",
    "ih, iw = 48, 48 #tamano de la imagen\n",
    "input_shape = (ih, iw, 1) #forma de la imagen: alto ancho y numero de canales\n",
    "\n",
    "#train_dir = 'data/minitrain' #directorio de entrenamiento\n",
    "#test_dir = 'data/minitest' #directorio de prueba\n",
    "train_dir = '/content/drive/MyDrive/archive.zip (Unzipped Files)/Expresiones/Exp1/Training/Training' #directorio de entrenamiento\n",
    "test_dir = '/content/drive/MyDrive/archive.zip (Unzipped Files)/Expresiones/Exp1/Testing/Testing' #directorio de prueba\n",
    "\n",
    "\n",
    "num_class = 6 #cuantas clases \n",
    "epochs = 15 #cuantas veces entrenar. En cada epoch hace una mejora en los parametros\n",
    "\n",
    "batch_size = 25 #batch para hacer cada entrenamiento. Lee 50 'batch_size' imagenes antes de actualizar los parametros. Las carga a memoria\n",
    "num_train = 7067 #numero de imagenes en train\n",
    "num_test = 28273 #numero de imagenes en test\n",
    "\n",
    "\n",
    "epoch_steps = num_train // batch_size \n",
    "test_steps = num_test // batch_size\n",
    "print(test_steps)\n",
    "\n",
    "gentrain = ImageDataGenerator(rescale=1. / 255.) #indica que reescale cada canal con valor entre 0 y 1.\n",
    "\n",
    "\n",
    "train = gentrain.flow_from_directory(train_dir,    \n",
    "                batch_size=batch_size,    \n",
    "                target_size=(iw, ih),\n",
    "                color_mode='grayscale',\n",
    "                class_mode='categorical')\n",
    "\n",
    "gentest = ImageDataGenerator(rescale=1. / 255)\n",
    "\n",
    "test = gentest.flow_from_directory(test_dir,    \n",
    "                batch_size=batch_size,    \n",
    "                target_size=(iw, ih),\n",
    "                color_mode='grayscale',\n",
    "                class_mode='categorical')"
   ]
  },
  {
   "cell_type": "code",
   "execution_count": 28,
   "metadata": {
    "executionInfo": {
     "elapsed": 549,
     "status": "ok",
     "timestamp": 1628199240601,
     "user": {
      "displayName": "Hiesker Tronco",
      "photoUrl": "",
      "userId": "15754113249199284305"
     },
     "user_tz": 300
    },
    "id": "-EewmzcKkoZf"
   },
   "outputs": [],
   "source": [
    "#CREAMOS LAS ARQUITECTORA DEL MODELO\n",
    "\n",
    "model = Sequential()\n",
    "model.add(Conv2D(16, (4, 4), input_shape=(ih, iw,1)))\n",
    "model.add(Activation('relu'))\n",
    "model.add(MaxPooling2D(pool_size=(2, 2)))\n",
    "\n",
    "model.add(Conv2D(16, (3, 3)))\n",
    "model.add(Activation('relu'))\n",
    "model.add(MaxPooling2D(pool_size=(2, 2)))\n",
    "\n",
    "model.add(Conv2D(36, (3, 3)))\n",
    "model.add(Activation('relu'))\n",
    "model.add(MaxPooling2D(pool_size=(3, 3)))\n",
    "         \n",
    "model.add(Flatten())\n",
    "model.add(Dense(128))\n",
    "model.add(Activation('relu'))\n",
    "\n",
    "model.add(Dense(60))\n",
    "model.add(Activation('relu'))\n",
    "\n",
    "model.add(Dense(32))\n",
    "model.add(Activation('relu'))\n",
    "\n",
    "model.add(Dropout(0.25))\n",
    "model.add(Dense(num_class))\n",
    "model.add(Activation('softmax'))\n",
    "\n",
    "\n",
    "model.compile(loss=keras.losses.categorical_crossentropy,\n",
    "              optimizer='adam',\n",
    "              metrics=['accuracy'])\n",
    "\n"
   ]
  },
  {
   "cell_type": "code",
   "execution_count": 29,
   "metadata": {
    "colab": {
     "base_uri": "https://localhost:8080/"
    },
    "executionInfo": {
     "elapsed": 8837698,
     "status": "ok",
     "timestamp": 1628208080369,
     "user": {
      "displayName": "Hiesker Tronco",
      "photoUrl": "",
      "userId": "15754113249199284305"
     },
     "user_tz": 300
    },
    "id": "Ntma-LEHPGv5",
    "outputId": "6ac70050-d273-4e5a-dc26-30fd522113d7"
   },
   "outputs": [
    {
     "name": "stderr",
     "output_type": "stream",
     "text": [
      "/usr/local/lib/python3.7/dist-packages/keras/engine/training.py:1915: UserWarning: `Model.fit_generator` is deprecated and will be removed in a future version. Please use `Model.fit`, which supports generators.\n",
      "  warnings.warn('`Model.fit_generator` is deprecated and '\n"
     ]
    },
    {
     "name": "stdout",
     "output_type": "stream",
     "text": [
      "Epoch 1/15\n",
      "282/282 [==============================] - ETA: 0s - loss: 1.7740 - accuracy: 0.2403WARNING:tensorflow:Your input ran out of data; interrupting training. Make sure that your dataset or generator can generate at least `steps_per_epoch * epochs` batches (in this case, 1130 batches). You may need to use the repeat() function when building your dataset.\n",
      "282/282 [==============================] - 3399s 12s/step - loss: 1.7740 - accuracy: 0.2404 - val_loss: 1.7555 - val_accuracy: 0.2510\n",
      "Epoch 2/15\n",
      "282/282 [==============================] - 1293s 5s/step - loss: 1.7486 - accuracy: 0.2639\n",
      "Epoch 3/15\n",
      "282/282 [==============================] - 944s 3s/step - loss: 1.7360 - accuracy: 0.2590\n",
      "Epoch 4/15\n",
      "282/282 [==============================] - 718s 3s/step - loss: 1.7240 - accuracy: 0.2507\n",
      "Epoch 5/15\n",
      "282/282 [==============================] - 543s 2s/step - loss: 1.6877 - accuracy: 0.2919\n",
      "Epoch 6/15\n",
      "282/282 [==============================] - 397s 1s/step - loss: 1.6285 - accuracy: 0.3170\n",
      "Epoch 7/15\n",
      "282/282 [==============================] - 314s 1s/step - loss: 1.5872 - accuracy: 0.3683\n",
      "Epoch 8/15\n",
      "282/282 [==============================] - 248s 876ms/step - loss: 1.5414 - accuracy: 0.3804\n",
      "Epoch 9/15\n",
      "282/282 [==============================] - 189s 668ms/step - loss: 1.5058 - accuracy: 0.3989\n",
      "Epoch 10/15\n",
      "282/282 [==============================] - 170s 602ms/step - loss: 1.5038 - accuracy: 0.3902\n",
      "Epoch 11/15\n",
      "282/282 [==============================] - 119s 421ms/step - loss: 1.4922 - accuracy: 0.4014\n",
      "Epoch 12/15\n",
      "282/282 [==============================] - 86s 307ms/step - loss: 1.4796 - accuracy: 0.4180\n",
      "Epoch 13/15\n",
      "282/282 [==============================] - 65s 230ms/step - loss: 1.4384 - accuracy: 0.4287\n",
      "Epoch 14/15\n",
      "282/282 [==============================] - 51s 180ms/step - loss: 1.4626 - accuracy: 0.4165\n",
      "Epoch 15/15\n",
      "282/282 [==============================] - 47s 167ms/step - loss: 1.4168 - accuracy: 0.4456\n"
     ]
    }
   ],
   "source": [
    "expresion_train=model.fit_generator(    \n",
    "                train,    \n",
    "                steps_per_epoch=epoch_steps,    \n",
    "                epochs=epochs,\n",
    "                validation_data=test,    \n",
    "                validation_steps=test_steps)\n"
   ]
  },
  {
   "cell_type": "code",
   "execution_count": 30,
   "metadata": {
    "colab": {
     "base_uri": "https://localhost:8080/",
     "height": 295
    },
    "executionInfo": {
     "elapsed": 360,
     "status": "ok",
     "timestamp": 1628208146996,
     "user": {
      "displayName": "Hiesker Tronco",
      "photoUrl": "",
      "userId": "15754113249199284305"
     },
     "user_tz": 300
    },
    "id": "WLgVD7qNxJFe",
    "outputId": "d77b958d-8b41-4242-abec-f87b9bc27aa0"
   },
   "outputs": [
    {
     "data": {
      "image/png": "[encoded data removed]",
      "text/plain": [
       "<Figure size 432x288 with 1 Axes>"
      ]
     },
     "metadata": {
      "needs_background": "light",
      "tags": []
     },
     "output_type": "display_data"
    }
   ],
   "source": [
    "# summarize history for accuracy\n",
    "plt.plot(expresion_train.history['accuracy'])\n",
    "plt.plot(expresion_train.history['val_accuracy'])\n",
    "plt.title('model accuracy')\n",
    "plt.ylabel('accuracy')\n",
    "plt.xlabel('epoch')\n",
    "plt.legend(['train', 'test'], loc='upper left')\n",
    "plt.show()"
   ]
  },
  {
   "cell_type": "code",
   "execution_count": 31,
   "metadata": {
    "colab": {
     "base_uri": "https://localhost:8080/",
     "height": 295
    },
    "executionInfo": {
     "elapsed": 175,
     "status": "ok",
     "timestamp": 1628208184474,
     "user": {
      "displayName": "Hiesker Tronco",
      "photoUrl": "",
      "userId": "15754113249199284305"
     },
     "user_tz": 300
    },
    "id": "TNectYsbxTL_",
    "outputId": "bc522889-d410-4a88-dd66-41768235dbe7"
   },
   "outputs": [
    {
     "data": {
      "image/png": "[encoded data removed]",
      "text/plain": [
       "<Figure size 432x288 with 1 Axes>"
      ]
     },
     "metadata": {
      "needs_background": "light",
      "tags": []
     },
     "output_type": "display_data"
    }
   ],
   "source": [
    "plt.plot(expresion_train.history['loss'])\n",
    "plt.plot(expresion_train.history['val_loss'])\n",
    "plt.title('model loss')\n",
    "plt.ylabel('loss')\n",
    "plt.xlabel('epoch')\n",
    "plt.legend(['train', 'test'], loc='upper left')\n",
    "plt.show()"
   ]
  },
  {
   "cell_type": "code",
   "execution_count": 10,
   "metadata": {
    "colab": {
     "base_uri": "https://localhost:8080/"
    },
    "executionInfo": {
     "elapsed": 245,
     "status": "ok",
     "timestamp": 1628198273534,
     "user": {
      "displayName": "Hiesker Tronco",
      "photoUrl": "",
      "userId": "15754113249199284305"
     },
     "user_tz": 300
    },
    "id": "jFJ4YyMaHdZe",
    "outputId": "9238eeeb-adce-4206-db11-a57dd1322949"
   },
   "outputs": [
    {
     "name": "stdout",
     "output_type": "stream",
     "text": [
      "Cargado modelo desde disco.\n"
     ]
    }
   ],
   "source": [
    "'''from keras.models import model_from_json\n",
    "# cargar json y crear el modelo\n",
    "json_file = open('/content/drive/MyDrive/archive.zip (Unzipped Files)/Expresiones/modelexpresiones.json', 'r')\n",
    "loaded_model_json = json_file.read()\n",
    "json_file.close()\n",
    "loaded_model = model_from_json(loaded_model_json)\n",
    "\n",
    "# cargar pesos al nuevo modelo\n",
    "loaded_model.load_weights(\"/content/drive/MyDrive/archive.zip (Unzipped Files)/Expresiones/pesosexpresione.h5\")\n",
    "print(\"Cargado modelo desde disco.\")\n",
    " \n",
    "# Compilar modelo cargado y listo para usar.\n",
    "loaded_model.compile(loss=keras.losses.categorical_crossentropy, optimizer='adam', metrics=['accuracy'])\n",
    "expresiones_model=loaded_model'''"
   ]
  },
  {
   "cell_type": "code",
   "execution_count": 34,
   "metadata": {
    "colab": {
     "base_uri": "https://localhost:8080/"
    },
    "executionInfo": {
     "elapsed": 47806,
     "status": "ok",
     "timestamp": 1628208482324,
     "user": {
      "displayName": "Hiesker Tronco",
      "photoUrl": "",
      "userId": "15754113249199284305"
     },
     "user_tz": 300
    },
    "id": "We3crXTBH_KA",
    "outputId": "3d62566f-b67a-4023-9954-c08193e6380a"
   },
   "outputs": [
    {
     "name": "stderr",
     "output_type": "stream",
     "text": [
      "/usr/local/lib/python3.7/dist-packages/keras/engine/training.py:1948: UserWarning: `Model.evaluate_generator` is deprecated and will be removed in a future version. Please use `Model.evaluate`, which supports generators.\n",
      "  warnings.warn('`Model.evaluate_generator` is deprecated and '\n"
     ]
    },
    {
     "name": "stdout",
     "output_type": "stream",
     "text": [
      "El modelo predice el  45.52753567695618 % de los datos\n"
     ]
    }
   ],
   "source": [
    "test_eval = model.evaluate_generator(train)\n",
    "print('El modelo predice el ', test_eval[1]*100,'% de los datos')"
   ]
  },
  {
   "cell_type": "code",
   "execution_count": 37,
   "metadata": {
    "colab": {
     "base_uri": "https://localhost:8080/"
    },
    "executionInfo": {
     "elapsed": 166,
     "status": "ok",
     "timestamp": 1628208569388,
     "user": {
      "displayName": "Hiesker Tronco",
      "photoUrl": "",
      "userId": "15754113249199284305"
     },
     "user_tz": 300
    },
    "id": "To8J-WM3IVeS",
    "outputId": "e916429a-e652-46e4-b6e6-cf23e07a2363"
   },
   "outputs": [
    {
     "name": "stdout",
     "output_type": "stream",
     "text": [
      "Modelo Guardado!\n"
     ]
    }
   ],
   "source": [
    "model.save('delfin1.h5')\n",
    "\n",
    "from keras.models import model_from_json\n",
    "# serializar el modelo a JSON\n",
    "model_json = model.to_json()\n",
    "with open(\"modelexpresiones1.json\", \"w\") as json_file:\n",
    "    json_file.write(model_json)\n",
    "# serializar los pesos a HDF5\n",
    "model.save_weights(\"pesosexpresione1.h5\")\n",
    "print(\"Modelo Guardado!\")"
   ]
  },
  {
   "cell_type": "code",
   "execution_count": 38,
   "metadata": {
    "colab": {
     "base_uri": "https://localhost:8080/"
    },
    "executionInfo": {
     "elapsed": 289415,
     "status": "ok",
     "timestamp": 1628208877652,
     "user": {
      "displayName": "Hiesker Tronco",
      "photoUrl": "",
      "userId": "15754113249199284305"
     },
     "user_tz": 300
    },
    "id": "f0oJGs0WL5i-",
    "outputId": "e6d8417d-ca26-41f9-a70f-be59e5a4ea8e"
   },
   "outputs": [
    {
     "name": "stdout",
     "output_type": "stream",
     "text": [
      "Epoch 1/15\n",
      "\r",
      "  1/282 [..............................] - ETA: 25s - loss: 1.1645 - accuracy: 0.4800"
     ]
    },
    {
     "name": "stderr",
     "output_type": "stream",
     "text": [
      "/usr/local/lib/python3.7/dist-packages/keras/engine/training.py:1915: UserWarning: `Model.fit_generator` is deprecated and will be removed in a future version. Please use `Model.fit`, which supports generators.\n",
      "  warnings.warn('`Model.fit_generator` is deprecated and '\n"
     ]
    },
    {
     "name": "stdout",
     "output_type": "stream",
     "text": [
      "282/282 [==============================] - ETA: 0s - loss: 1.4185 - accuracy: 0.4423WARNING:tensorflow:Your input ran out of data; interrupting training. Make sure that your dataset or generator can generate at least `steps_per_epoch * epochs` batches (in this case, 1130 batches). You may need to use the repeat() function when building your dataset.\n",
      "282/282 [==============================] - 28s 99ms/step - loss: 1.4185 - accuracy: 0.4423 - val_loss: 1.4204 - val_accuracy: 0.4450\n",
      "Epoch 2/15\n",
      "282/282 [==============================] - 16s 57ms/step - loss: 1.4077 - accuracy: 0.4452\n",
      "Epoch 3/15\n",
      "282/282 [==============================] - 16s 57ms/step - loss: 1.4090 - accuracy: 0.4407\n",
      "Epoch 4/15\n",
      "282/282 [==============================] - 16s 57ms/step - loss: 1.3927 - accuracy: 0.4435\n",
      "Epoch 5/15\n",
      "282/282 [==============================] - 16s 57ms/step - loss: 1.3789 - accuracy: 0.4576\n",
      "Epoch 6/15\n",
      "282/282 [==============================] - 16s 58ms/step - loss: 1.3900 - accuracy: 0.4496\n",
      "Epoch 7/15\n",
      "282/282 [==============================] - 16s 57ms/step - loss: 1.3550 - accuracy: 0.4681\n",
      "Epoch 8/15\n",
      "282/282 [==============================] - 16s 57ms/step - loss: 1.3711 - accuracy: 0.4665\n",
      "Epoch 9/15\n",
      "282/282 [==============================] - 16s 58ms/step - loss: 1.3453 - accuracy: 0.4715\n",
      "Epoch 10/15\n",
      "282/282 [==============================] - 16s 58ms/step - loss: 1.3316 - accuracy: 0.4813\n",
      "Epoch 11/15\n",
      "282/282 [==============================] - 16s 57ms/step - loss: 1.3088 - accuracy: 0.4921\n",
      "Epoch 12/15\n",
      "282/282 [==============================] - 16s 58ms/step - loss: 1.3266 - accuracy: 0.4814\n",
      "Epoch 13/15\n",
      "282/282 [==============================] - 16s 58ms/step - loss: 1.3251 - accuracy: 0.4857\n",
      "Epoch 14/15\n",
      "282/282 [==============================] - 16s 57ms/step - loss: 1.3311 - accuracy: 0.4774\n",
      "Epoch 15/15\n",
      "282/282 [==============================] - 16s 58ms/step - loss: 1.3030 - accuracy: 0.4867\n"
     ]
    }
   ],
   "source": [
    "expresion_train=model.fit_generator(    \n",
    "                train,    \n",
    "                steps_per_epoch=epoch_steps,    \n",
    "                epochs=epochs,\n",
    "                validation_data=test,    \n",
    "                validation_steps=test_steps)\n"
   ]
  },
  {
   "cell_type": "code",
   "execution_count": 39,
   "metadata": {
    "colab": {
     "base_uri": "https://localhost:8080/"
    },
    "executionInfo": {
     "elapsed": 47437,
     "status": "ok",
     "timestamp": 1628208945129,
     "user": {
      "displayName": "Hiesker Tronco",
      "photoUrl": "",
      "userId": "15754113249199284305"
     },
     "user_tz": 300
    },
    "id": "cF_b7kK3y2Tl",
    "outputId": "906f2d7b-3670-4fae-dae3-71a794833fbe"
   },
   "outputs": [
    {
     "name": "stderr",
     "output_type": "stream",
     "text": [
      "/usr/local/lib/python3.7/dist-packages/keras/engine/training.py:1948: UserWarning: `Model.evaluate_generator` is deprecated and will be removed in a future version. Please use `Model.evaluate`, which supports generators.\n",
      "  warnings.warn('`Model.evaluate_generator` is deprecated and '\n"
     ]
    },
    {
     "name": "stdout",
     "output_type": "stream",
     "text": [
      "El modelo predice el  51.43069624900818 % de los datos\n"
     ]
    }
   ],
   "source": [
    "test_eval = model.evaluate_generator(train)\n",
    "print('El modelo predice el ', test_eval[1]*100,'% de los datos')"
   ]
  },
  {
   "cell_type": "code",
   "execution_count": 40,
   "metadata": {
    "colab": {
     "base_uri": "https://localhost:8080/"
    },
    "executionInfo": {
     "elapsed": 960450,
     "status": "ok",
     "timestamp": 1628209923886,
     "user": {
      "displayName": "Hiesker Tronco",
      "photoUrl": "",
      "userId": "15754113249199284305"
     },
     "user_tz": 300
    },
    "id": "V63SvuiV0B10",
    "outputId": "01ce84ca-34a8-4ab9-b36e-9a3e119f54ea"
   },
   "outputs": [
    {
     "name": "stdout",
     "output_type": "stream",
     "text": [
      "Epoch 1/50\n",
      "\r",
      "  1/282 [..............................] - ETA: 24s - loss: 1.0798 - accuracy: 0.6000"
     ]
    },
    {
     "name": "stderr",
     "output_type": "stream",
     "text": [
      "/usr/local/lib/python3.7/dist-packages/keras/engine/training.py:1915: UserWarning: `Model.fit_generator` is deprecated and will be removed in a future version. Please use `Model.fit`, which supports generators.\n",
      "  warnings.warn('`Model.fit_generator` is deprecated and '\n"
     ]
    },
    {
     "name": "stdout",
     "output_type": "stream",
     "text": [
      "282/282 [==============================] - ETA: 0s - loss: 1.3012 - accuracy: 0.4895WARNING:tensorflow:Your input ran out of data; interrupting training. Make sure that your dataset or generator can generate at least `steps_per_epoch * epochs` batches (in this case, 1130 batches). You may need to use the repeat() function when building your dataset.\n",
      "282/282 [==============================] - 36s 129ms/step - loss: 1.3012 - accuracy: 0.4895 - val_loss: 1.3092 - val_accuracy: 0.4920\n",
      "Epoch 2/50\n",
      "282/282 [==============================] - 16s 57ms/step - loss: 1.2829 - accuracy: 0.4976\n",
      "Epoch 3/50\n",
      "282/282 [==============================] - 16s 57ms/step - loss: 1.2789 - accuracy: 0.4987\n",
      "Epoch 4/50\n",
      "282/282 [==============================] - 16s 58ms/step - loss: 1.2771 - accuracy: 0.5121\n",
      "Epoch 5/50\n",
      "282/282 [==============================] - 16s 57ms/step - loss: 1.2602 - accuracy: 0.5072\n",
      "Epoch 6/50\n",
      "282/282 [==============================] - 16s 57ms/step - loss: 1.2675 - accuracy: 0.5143\n",
      "Epoch 7/50\n",
      "282/282 [==============================] - 16s 57ms/step - loss: 1.2461 - accuracy: 0.5175\n",
      "Epoch 8/50\n",
      "282/282 [==============================] - 16s 57ms/step - loss: 1.2375 - accuracy: 0.5261\n",
      "Epoch 9/50\n",
      "282/282 [==============================] - 16s 57ms/step - loss: 1.2431 - accuracy: 0.5179\n",
      "Epoch 10/50\n",
      "282/282 [==============================] - 16s 57ms/step - loss: 1.2446 - accuracy: 0.5248\n",
      "Epoch 11/50\n",
      "282/282 [==============================] - 16s 58ms/step - loss: 1.2234 - accuracy: 0.5291\n",
      "Epoch 12/50\n",
      "282/282 [==============================] - 16s 57ms/step - loss: 1.2188 - accuracy: 0.5345\n",
      "Epoch 13/50\n",
      "282/282 [==============================] - 16s 57ms/step - loss: 1.2158 - accuracy: 0.5397\n",
      "Epoch 14/50\n",
      "282/282 [==============================] - 16s 58ms/step - loss: 1.2272 - accuracy: 0.5277\n",
      "Epoch 15/50\n",
      "282/282 [==============================] - 16s 58ms/step - loss: 1.2226 - accuracy: 0.5340\n",
      "Epoch 16/50\n",
      "282/282 [==============================] - 16s 58ms/step - loss: 1.1978 - accuracy: 0.5434\n",
      "Epoch 17/50\n",
      "282/282 [==============================] - 16s 58ms/step - loss: 1.2240 - accuracy: 0.5292\n",
      "Epoch 18/50\n",
      "282/282 [==============================] - 16s 58ms/step - loss: 1.1990 - accuracy: 0.5369\n",
      "Epoch 19/50\n",
      "282/282 [==============================] - 16s 58ms/step - loss: 1.1874 - accuracy: 0.5515\n",
      "Epoch 20/50\n",
      "282/282 [==============================] - 16s 58ms/step - loss: 1.1764 - accuracy: 0.5516\n",
      "Epoch 21/50\n",
      "282/282 [==============================] - 16s 58ms/step - loss: 1.1725 - accuracy: 0.5485\n",
      "Epoch 22/50\n",
      "282/282 [==============================] - 16s 58ms/step - loss: 1.1605 - accuracy: 0.5512\n",
      "Epoch 23/50\n",
      "282/282 [==============================] - 16s 58ms/step - loss: 1.1831 - accuracy: 0.5438\n",
      "Epoch 24/50\n",
      "282/282 [==============================] - 16s 58ms/step - loss: 1.1773 - accuracy: 0.5499\n",
      "Epoch 25/50\n",
      "282/282 [==============================] - 16s 58ms/step - loss: 1.1472 - accuracy: 0.5634\n",
      "Epoch 26/50\n",
      "282/282 [==============================] - 16s 58ms/step - loss: 1.1396 - accuracy: 0.5682\n",
      "Epoch 27/50\n",
      "282/282 [==============================] - 16s 58ms/step - loss: 1.1495 - accuracy: 0.5650\n",
      "Epoch 28/50\n",
      "282/282 [==============================] - 16s 58ms/step - loss: 1.1483 - accuracy: 0.5627\n",
      "Epoch 29/50\n",
      "282/282 [==============================] - 16s 58ms/step - loss: 1.1532 - accuracy: 0.5596\n",
      "Epoch 30/50\n",
      "282/282 [==============================] - 16s 58ms/step - loss: 1.1400 - accuracy: 0.5603\n",
      "Epoch 31/50\n",
      "282/282 [==============================] - 16s 58ms/step - loss: 1.1473 - accuracy: 0.5618\n",
      "Epoch 32/50\n",
      "282/282 [==============================] - 16s 58ms/step - loss: 1.1263 - accuracy: 0.5740\n",
      "Epoch 33/50\n",
      "282/282 [==============================] - 16s 58ms/step - loss: 1.1411 - accuracy: 0.5620\n",
      "Epoch 34/50\n",
      "282/282 [==============================] - 16s 58ms/step - loss: 1.1195 - accuracy: 0.5736\n",
      "Epoch 35/50\n",
      "282/282 [==============================] - 16s 58ms/step - loss: 1.1293 - accuracy: 0.5715\n",
      "Epoch 36/50\n",
      "282/282 [==============================] - 16s 58ms/step - loss: 1.1358 - accuracy: 0.5675\n",
      "Epoch 37/50\n",
      "282/282 [==============================] - 16s 58ms/step - loss: 1.1025 - accuracy: 0.5796\n",
      "Epoch 38/50\n",
      "282/282 [==============================] - 16s 58ms/step - loss: 1.0991 - accuracy: 0.5813\n",
      "Epoch 39/50\n",
      "282/282 [==============================] - 16s 58ms/step - loss: 1.0933 - accuracy: 0.5902\n",
      "Epoch 40/50\n",
      "282/282 [==============================] - 16s 58ms/step - loss: 1.0953 - accuracy: 0.5774\n",
      "Epoch 41/50\n",
      "282/282 [==============================] - 16s 58ms/step - loss: 1.0918 - accuracy: 0.5773\n",
      "Epoch 42/50\n",
      "282/282 [==============================] - 16s 58ms/step - loss: 1.0858 - accuracy: 0.5855\n",
      "Epoch 43/50\n",
      "282/282 [==============================] - 16s 58ms/step - loss: 1.0890 - accuracy: 0.5818\n",
      "Epoch 44/50\n",
      "282/282 [==============================] - 17s 59ms/step - loss: 1.0781 - accuracy: 0.5887\n",
      "Epoch 45/50\n",
      "282/282 [==============================] - 17s 59ms/step - loss: 1.0846 - accuracy: 0.5879\n",
      "Epoch 46/50\n",
      "282/282 [==============================] - 17s 59ms/step - loss: 1.0595 - accuracy: 0.5901\n",
      "Epoch 47/50\n",
      "282/282 [==============================] - 16s 58ms/step - loss: 1.0564 - accuracy: 0.5951\n",
      "Epoch 48/50\n",
      "282/282 [==============================] - 16s 58ms/step - loss: 1.0616 - accuracy: 0.5938\n",
      "Epoch 49/50\n",
      "282/282 [==============================] - 16s 58ms/step - loss: 1.0526 - accuracy: 0.6035\n",
      "Epoch 50/50\n",
      "282/282 [==============================] - 16s 58ms/step - loss: 1.0444 - accuracy: 0.6028\n"
     ]
    }
   ],
   "source": [
    "expresion_train=model.fit_generator(    \n",
    "                train,    \n",
    "                steps_per_epoch=epoch_steps,    \n",
    "                epochs=50,\n",
    "                validation_data=test,    \n",
    "                validation_steps=test_steps)\n"
   ]
  },
  {
   "cell_type": "code",
   "execution_count": 41,
   "metadata": {
    "colab": {
     "base_uri": "https://localhost:8080/"
    },
    "executionInfo": {
     "elapsed": 49339,
     "status": "ok",
     "timestamp": 1628209979032,
     "user": {
      "displayName": "Hiesker Tronco",
      "photoUrl": "",
      "userId": "15754113249199284305"
     },
     "user_tz": 300
    },
    "id": "fm7k1Om40R3a",
    "outputId": "5cf84bbc-04f7-4be1-8e03-faa7e5d70a29"
   },
   "outputs": [
    {
     "name": "stderr",
     "output_type": "stream",
     "text": [
      "/usr/local/lib/python3.7/dist-packages/keras/engine/training.py:1948: UserWarning: `Model.evaluate_generator` is deprecated and will be removed in a future version. Please use `Model.evaluate`, which supports generators.\n",
      "  warnings.warn('`Model.evaluate_generator` is deprecated and '\n"
     ]
    },
    {
     "name": "stdout",
     "output_type": "stream",
     "text": [
      "El modelo predice el  60.41452884674072 % de los datos\n"
     ]
    }
   ],
   "source": [
    "test_eval = model.evaluate_generator(train)\n",
    "print('El modelo predice el ', test_eval[1]*100,'% de los datos')"
   ]
  },
  {
   "cell_type": "code",
   "execution_count": 42,
   "metadata": {
    "colab": {
     "base_uri": "https://localhost:8080/"
    },
    "executionInfo": {
     "elapsed": 950329,
     "status": "ok",
     "timestamp": 1628210937471,
     "user": {
      "displayName": "Hiesker Tronco",
      "photoUrl": "",
      "userId": "15754113249199284305"
     },
     "user_tz": 300
    },
    "id": "Xgr9Im9R39wi",
    "outputId": "cc40e5ae-ef75-449c-ba0c-7856299c891a"
   },
   "outputs": [
    {
     "name": "stdout",
     "output_type": "stream",
     "text": [
      "Epoch 1/50\n",
      "\r",
      "  1/282 [..............................] - ETA: 26s - loss: 1.3913 - accuracy: 0.3600"
     ]
    },
    {
     "name": "stderr",
     "output_type": "stream",
     "text": [
      "/usr/local/lib/python3.7/dist-packages/keras/engine/training.py:1915: UserWarning: `Model.fit_generator` is deprecated and will be removed in a future version. Please use `Model.fit`, which supports generators.\n",
      "  warnings.warn('`Model.fit_generator` is deprecated and '\n"
     ]
    },
    {
     "name": "stdout",
     "output_type": "stream",
     "text": [
      "282/282 [==============================] - ETA: 0s - loss: 1.0479 - accuracy: 0.6041WARNING:tensorflow:Your input ran out of data; interrupting training. Make sure that your dataset or generator can generate at least `steps_per_epoch * epochs` batches (in this case, 1130 batches). You may need to use the repeat() function when building your dataset.\n",
      "282/282 [==============================] - 37s 132ms/step - loss: 1.0479 - accuracy: 0.6041 - val_loss: 1.3077 - val_accuracy: 0.5182\n",
      "Epoch 2/50\n",
      "282/282 [==============================] - 16s 58ms/step - loss: 1.0433 - accuracy: 0.6037\n",
      "Epoch 3/50\n",
      "282/282 [==============================] - 16s 58ms/step - loss: 1.0440 - accuracy: 0.6024\n",
      "Epoch 4/50\n",
      "282/282 [==============================] - 16s 58ms/step - loss: 1.0489 - accuracy: 0.5997\n",
      "Epoch 5/50\n",
      "282/282 [==============================] - 16s 58ms/step - loss: 1.0264 - accuracy: 0.6158\n",
      "Epoch 6/50\n",
      "282/282 [==============================] - 16s 58ms/step - loss: 1.0295 - accuracy: 0.6082\n",
      "Epoch 7/50\n",
      "282/282 [==============================] - 17s 59ms/step - loss: 1.0273 - accuracy: 0.6150\n",
      "Epoch 8/50\n",
      "282/282 [==============================] - 17s 59ms/step - loss: 1.0129 - accuracy: 0.6159\n",
      "Epoch 9/50\n",
      "282/282 [==============================] - 16s 58ms/step - loss: 1.0219 - accuracy: 0.6165\n",
      "Epoch 10/50\n",
      "282/282 [==============================] - 16s 58ms/step - loss: 1.0039 - accuracy: 0.6184\n",
      "Epoch 11/50\n",
      "282/282 [==============================] - 16s 58ms/step - loss: 1.0066 - accuracy: 0.6163\n",
      "Epoch 12/50\n",
      "282/282 [==============================] - 17s 59ms/step - loss: 1.0098 - accuracy: 0.6220\n",
      "Epoch 13/50\n",
      "282/282 [==============================] - 16s 58ms/step - loss: 0.9896 - accuracy: 0.6220\n",
      "Epoch 14/50\n",
      "282/282 [==============================] - 17s 59ms/step - loss: 0.9958 - accuracy: 0.6240\n",
      "Epoch 15/50\n",
      "282/282 [==============================] - 17s 59ms/step - loss: 1.0063 - accuracy: 0.6226\n",
      "Epoch 16/50\n",
      "282/282 [==============================] - 17s 58ms/step - loss: 0.9972 - accuracy: 0.6255\n",
      "Epoch 17/50\n",
      "282/282 [==============================] - 17s 59ms/step - loss: 0.9762 - accuracy: 0.6336\n",
      "Epoch 18/50\n",
      "282/282 [==============================] - 17s 58ms/step - loss: 0.9882 - accuracy: 0.6192\n",
      "Epoch 19/50\n",
      "282/282 [==============================] - 16s 58ms/step - loss: 0.9699 - accuracy: 0.6354\n",
      "Epoch 20/50\n",
      "282/282 [==============================] - 16s 58ms/step - loss: 0.9825 - accuracy: 0.6313\n",
      "Epoch 21/50\n",
      "282/282 [==============================] - 16s 58ms/step - loss: 0.9776 - accuracy: 0.6330\n",
      "Epoch 22/50\n",
      "282/282 [==============================] - 16s 58ms/step - loss: 0.9856 - accuracy: 0.6321\n",
      "Epoch 23/50\n",
      "282/282 [==============================] - 17s 58ms/step - loss: 0.9476 - accuracy: 0.6403\n",
      "Epoch 24/50\n",
      "282/282 [==============================] - 16s 58ms/step - loss: 0.9641 - accuracy: 0.6363\n",
      "Epoch 25/50\n",
      "282/282 [==============================] - 16s 58ms/step - loss: 0.9415 - accuracy: 0.6481\n",
      "Epoch 26/50\n",
      "282/282 [==============================] - 16s 58ms/step - loss: 0.9685 - accuracy: 0.6416\n",
      "Epoch 27/50\n",
      "282/282 [==============================] - 16s 58ms/step - loss: 0.9571 - accuracy: 0.6394\n",
      "Epoch 28/50\n",
      "282/282 [==============================] - 16s 58ms/step - loss: 0.9538 - accuracy: 0.6434\n",
      "Epoch 29/50\n",
      "282/282 [==============================] - 17s 58ms/step - loss: 0.9416 - accuracy: 0.6465\n",
      "Epoch 30/50\n",
      "282/282 [==============================] - 17s 59ms/step - loss: 0.9263 - accuracy: 0.6460\n",
      "Epoch 31/50\n",
      "282/282 [==============================] - 17s 59ms/step - loss: 0.9272 - accuracy: 0.6562\n",
      "Epoch 32/50\n",
      "282/282 [==============================] - 17s 59ms/step - loss: 0.9320 - accuracy: 0.6478\n",
      "Epoch 33/50\n",
      "282/282 [==============================] - 17s 59ms/step - loss: 0.9540 - accuracy: 0.6371\n",
      "Epoch 34/50\n",
      "282/282 [==============================] - 17s 59ms/step - loss: 0.9293 - accuracy: 0.6389\n",
      "Epoch 35/50\n",
      "282/282 [==============================] - 17s 59ms/step - loss: 0.9159 - accuracy: 0.6492\n",
      "Epoch 36/50\n",
      "282/282 [==============================] - 17s 59ms/step - loss: 0.9458 - accuracy: 0.6376\n",
      "Epoch 37/50\n",
      "282/282 [==============================] - 16s 58ms/step - loss: 0.9105 - accuracy: 0.6529\n",
      "Epoch 38/50\n",
      "282/282 [==============================] - 17s 59ms/step - loss: 0.9176 - accuracy: 0.6559\n",
      "Epoch 39/50\n",
      "282/282 [==============================] - 16s 58ms/step - loss: 0.9035 - accuracy: 0.6625\n",
      "Epoch 40/50\n",
      "282/282 [==============================] - 17s 59ms/step - loss: 0.9011 - accuracy: 0.6582\n",
      "Epoch 41/50\n",
      "282/282 [==============================] - 17s 59ms/step - loss: 0.9178 - accuracy: 0.6566\n",
      "Epoch 42/50\n",
      "282/282 [==============================] - 16s 58ms/step - loss: 0.9030 - accuracy: 0.6610\n",
      "Epoch 43/50\n",
      "282/282 [==============================] - 17s 59ms/step - loss: 0.8924 - accuracy: 0.6604\n",
      "Epoch 44/50\n",
      "282/282 [==============================] - 16s 58ms/step - loss: 0.8958 - accuracy: 0.6589\n",
      "Epoch 45/50\n",
      "282/282 [==============================] - 17s 59ms/step - loss: 0.8825 - accuracy: 0.6643\n",
      "Epoch 46/50\n",
      "282/282 [==============================] - 17s 59ms/step - loss: 0.8898 - accuracy: 0.6750\n",
      "Epoch 47/50\n",
      "282/282 [==============================] - 17s 60ms/step - loss: 0.8808 - accuracy: 0.6670\n",
      "Epoch 48/50\n",
      "282/282 [==============================] - 17s 59ms/step - loss: 0.8927 - accuracy: 0.6692\n",
      "Epoch 49/50\n",
      "282/282 [==============================] - 17s 59ms/step - loss: 0.8676 - accuracy: 0.6688\n",
      "Epoch 50/50\n",
      "282/282 [==============================] - 17s 59ms/step - loss: 0.8657 - accuracy: 0.6704\n"
     ]
    }
   ],
   "source": [
    "expresion_train=model.fit_generator(    \n",
    "                train,    \n",
    "                steps_per_epoch=epoch_steps,    \n",
    "                epochs=50,\n",
    "                validation_data=test,    \n",
    "                validation_steps=test_steps)\n"
   ]
  },
  {
   "cell_type": "code",
   "execution_count": 43,
   "metadata": {
    "colab": {
     "base_uri": "https://localhost:8080/"
    },
    "executionInfo": {
     "elapsed": 47759,
     "status": "ok",
     "timestamp": 1628210988659,
     "user": {
      "displayName": "Hiesker Tronco",
      "photoUrl": "",
      "userId": "15754113249199284305"
     },
     "user_tz": 300
    },
    "id": "j2E7teLc4Lxy",
    "outputId": "63cdd0a9-f5b6-442f-bedc-e519af903083"
   },
   "outputs": [
    {
     "name": "stderr",
     "output_type": "stream",
     "text": [
      "/usr/local/lib/python3.7/dist-packages/keras/engine/training.py:1948: UserWarning: `Model.evaluate_generator` is deprecated and will be removed in a future version. Please use `Model.evaluate`, which supports generators.\n",
      "  warnings.warn('`Model.evaluate_generator` is deprecated and '\n"
     ]
    },
    {
     "name": "stdout",
     "output_type": "stream",
     "text": [
      "El modelo predice el  69.17200088500977 % de los datos\n"
     ]
    }
   ],
   "source": [
    "test_eval = model.evaluate_generator(train)\n",
    "print('El modelo predice el ', test_eval[1]*100,'% de los datos')"
   ]
  },
  {
   "cell_type": "code",
   "execution_count": 44,
   "metadata": {
    "colab": {
     "base_uri": "https://localhost:8080/"
    },
    "executionInfo": {
     "elapsed": 975049,
     "status": "ok",
     "timestamp": 1628211985592,
     "user": {
      "displayName": "Hiesker Tronco",
      "photoUrl": "",
      "userId": "15754113249199284305"
     },
     "user_tz": 300
    },
    "id": "vjXCdE_p70pt",
    "outputId": "4b333e33-d428-48b0-fc14-3fa85bf56423"
   },
   "outputs": [
    {
     "name": "stdout",
     "output_type": "stream",
     "text": [
      "Epoch 1/50\n",
      "\r",
      "  1/282 [..............................] - ETA: 25s - loss: 0.5748 - accuracy: 0.8400"
     ]
    },
    {
     "name": "stderr",
     "output_type": "stream",
     "text": [
      "/usr/local/lib/python3.7/dist-packages/keras/engine/training.py:1915: UserWarning: `Model.fit_generator` is deprecated and will be removed in a future version. Please use `Model.fit`, which supports generators.\n",
      "  warnings.warn('`Model.fit_generator` is deprecated and '\n"
     ]
    },
    {
     "name": "stdout",
     "output_type": "stream",
     "text": [
      "282/282 [==============================] - ETA: 0s - loss: 0.8762 - accuracy: 0.6712WARNING:tensorflow:Your input ran out of data; interrupting training. Make sure that your dataset or generator can generate at least `steps_per_epoch * epochs` batches (in this case, 1130 batches). You may need to use the repeat() function when building your dataset.\n",
      "282/282 [==============================] - 37s 131ms/step - loss: 0.8762 - accuracy: 0.6712 - val_loss: 1.4914 - val_accuracy: 0.4979\n",
      "Epoch 2/50\n",
      "282/282 [==============================] - 17s 59ms/step - loss: 0.8750 - accuracy: 0.6740\n",
      "Epoch 3/50\n",
      "282/282 [==============================] - 17s 59ms/step - loss: 0.8752 - accuracy: 0.6647\n",
      "Epoch 4/50\n",
      "282/282 [==============================] - 17s 59ms/step - loss: 0.8699 - accuracy: 0.6658\n",
      "Epoch 5/50\n",
      "282/282 [==============================] - 17s 59ms/step - loss: 0.8647 - accuracy: 0.6743\n",
      "Epoch 6/50\n",
      "282/282 [==============================] - 17s 58ms/step - loss: 0.8637 - accuracy: 0.6753\n",
      "Epoch 7/50\n",
      "282/282 [==============================] - 17s 59ms/step - loss: 0.8468 - accuracy: 0.6823\n",
      "Epoch 8/50\n",
      "282/282 [==============================] - 17s 59ms/step - loss: 0.8387 - accuracy: 0.6884\n",
      "Epoch 9/50\n",
      "282/282 [==============================] - 17s 59ms/step - loss: 0.8493 - accuracy: 0.6810\n",
      "Epoch 10/50\n",
      "282/282 [==============================] - 17s 60ms/step - loss: 0.8343 - accuracy: 0.6872\n",
      "Epoch 11/50\n",
      "282/282 [==============================] - 17s 59ms/step - loss: 0.8375 - accuracy: 0.6843\n",
      "Epoch 12/50\n",
      "282/282 [==============================] - 17s 59ms/step - loss: 0.8176 - accuracy: 0.6902\n",
      "Epoch 13/50\n",
      "282/282 [==============================] - 17s 59ms/step - loss: 0.8299 - accuracy: 0.6861\n",
      "Epoch 14/50\n",
      "282/282 [==============================] - 17s 59ms/step - loss: 0.8201 - accuracy: 0.6908\n",
      "Epoch 15/50\n",
      "282/282 [==============================] - 17s 59ms/step - loss: 0.8305 - accuracy: 0.6860\n",
      "Epoch 16/50\n",
      "282/282 [==============================] - 17s 59ms/step - loss: 0.8210 - accuracy: 0.6862\n",
      "Epoch 17/50\n",
      "282/282 [==============================] - 17s 59ms/step - loss: 0.8429 - accuracy: 0.6780\n",
      "Epoch 18/50\n",
      "282/282 [==============================] - 16s 58ms/step - loss: 0.8100 - accuracy: 0.6957\n",
      "Epoch 19/50\n",
      "282/282 [==============================] - 17s 59ms/step - loss: 0.8260 - accuracy: 0.6820\n",
      "Epoch 20/50\n",
      "282/282 [==============================] - 17s 59ms/step - loss: 0.8434 - accuracy: 0.6789\n",
      "Epoch 21/50\n",
      "282/282 [==============================] - 17s 59ms/step - loss: 0.8283 - accuracy: 0.6877\n",
      "Epoch 22/50\n",
      "282/282 [==============================] - 17s 60ms/step - loss: 0.8210 - accuracy: 0.6913\n",
      "Epoch 23/50\n",
      "282/282 [==============================] - 17s 59ms/step - loss: 0.8053 - accuracy: 0.6956\n",
      "Epoch 24/50\n",
      "282/282 [==============================] - 17s 59ms/step - loss: 0.8157 - accuracy: 0.6930\n",
      "Epoch 25/50\n",
      "282/282 [==============================] - 17s 59ms/step - loss: 0.8166 - accuracy: 0.6885\n",
      "Epoch 26/50\n",
      "282/282 [==============================] - 17s 60ms/step - loss: 0.8001 - accuracy: 0.6936\n",
      "Epoch 27/50\n",
      "282/282 [==============================] - 17s 60ms/step - loss: 0.8221 - accuracy: 0.6898\n",
      "Epoch 28/50\n",
      "282/282 [==============================] - 17s 60ms/step - loss: 0.8071 - accuracy: 0.6966\n",
      "Epoch 29/50\n",
      "282/282 [==============================] - 17s 60ms/step - loss: 0.8013 - accuracy: 0.6969\n",
      "Epoch 30/50\n",
      "282/282 [==============================] - 17s 60ms/step - loss: 0.8064 - accuracy: 0.6945\n",
      "Epoch 31/50\n",
      "282/282 [==============================] - 17s 60ms/step - loss: 0.7869 - accuracy: 0.7094\n",
      "Epoch 32/50\n",
      "282/282 [==============================] - 17s 60ms/step - loss: 0.7751 - accuracy: 0.7047\n",
      "Epoch 33/50\n",
      "282/282 [==============================] - 17s 60ms/step - loss: 0.8085 - accuracy: 0.6942\n",
      "Epoch 34/50\n",
      "282/282 [==============================] - 17s 59ms/step - loss: 0.7759 - accuracy: 0.7148\n",
      "Epoch 35/50\n",
      "282/282 [==============================] - 17s 60ms/step - loss: 0.7805 - accuracy: 0.7032\n",
      "Epoch 36/50\n",
      "282/282 [==============================] - 17s 59ms/step - loss: 0.8020 - accuracy: 0.6961\n",
      "Epoch 37/50\n",
      "282/282 [==============================] - 17s 60ms/step - loss: 0.7584 - accuracy: 0.7069\n",
      "Epoch 38/50\n",
      "282/282 [==============================] - 17s 60ms/step - loss: 0.7771 - accuracy: 0.7057\n",
      "Epoch 39/50\n",
      "282/282 [==============================] - 17s 59ms/step - loss: 0.7864 - accuracy: 0.7001\n",
      "Epoch 40/50\n",
      "282/282 [==============================] - 17s 60ms/step - loss: 0.7735 - accuracy: 0.7050\n",
      "Epoch 41/50\n",
      "282/282 [==============================] - 17s 60ms/step - loss: 0.7706 - accuracy: 0.7107\n",
      "Epoch 42/50\n",
      "282/282 [==============================] - 17s 61ms/step - loss: 0.7624 - accuracy: 0.7152\n",
      "Epoch 43/50\n",
      "282/282 [==============================] - 17s 60ms/step - loss: 0.7605 - accuracy: 0.7089\n",
      "Epoch 44/50\n",
      "282/282 [==============================] - 17s 61ms/step - loss: 0.7752 - accuracy: 0.7092\n",
      "Epoch 45/50\n",
      "282/282 [==============================] - 17s 62ms/step - loss: 0.7455 - accuracy: 0.7170\n",
      "Epoch 46/50\n",
      "282/282 [==============================] - 17s 60ms/step - loss: 0.7626 - accuracy: 0.7169\n",
      "Epoch 47/50\n",
      "282/282 [==============================] - 17s 61ms/step - loss: 0.7609 - accuracy: 0.7126\n",
      "Epoch 48/50\n",
      "282/282 [==============================] - 17s 61ms/step - loss: 0.7584 - accuracy: 0.7081\n",
      "Epoch 49/50\n",
      "282/282 [==============================] - 17s 61ms/step - loss: 0.7503 - accuracy: 0.7157\n",
      "Epoch 50/50\n",
      "282/282 [==============================] - 17s 61ms/step - loss: 0.7613 - accuracy: 0.7121\n"
     ]
    }
   ],
   "source": [
    "expresion_train=model.fit_generator(    \n",
    "                train,    \n",
    "                steps_per_epoch=epoch_steps,    \n",
    "                epochs=50,\n",
    "                validation_data=test,    \n",
    "                validation_steps=test_steps)"
   ]
  },
  {
   "cell_type": "code",
   "execution_count": 45,
   "metadata": {
    "colab": {
     "base_uri": "https://localhost:8080/"
    },
    "executionInfo": {
     "elapsed": 975346,
     "status": "ok",
     "timestamp": 1628213028611,
     "user": {
      "displayName": "Hiesker Tronco",
      "photoUrl": "",
      "userId": "15754113249199284305"
     },
     "user_tz": 300
    },
    "id": "aFtHtTyc8Fq0",
    "outputId": "f5bf9969-b1a4-4068-f7ff-39c3df956d12"
   },
   "outputs": [
    {
     "name": "stdout",
     "output_type": "stream",
     "text": [
      "Epoch 1/50\n",
      "\r",
      "  1/282 [..............................] - ETA: 26s - loss: 0.8146 - accuracy: 0.7200"
     ]
    },
    {
     "name": "stderr",
     "output_type": "stream",
     "text": [
      "/usr/local/lib/python3.7/dist-packages/keras/engine/training.py:1915: UserWarning: `Model.fit_generator` is deprecated and will be removed in a future version. Please use `Model.fit`, which supports generators.\n",
      "  warnings.warn('`Model.fit_generator` is deprecated and '\n"
     ]
    },
    {
     "name": "stdout",
     "output_type": "stream",
     "text": [
      "282/282 [==============================] - ETA: 0s - loss: 0.7537 - accuracy: 0.7119WARNING:tensorflow:Your input ran out of data; interrupting training. Make sure that your dataset or generator can generate at least `steps_per_epoch * epochs` batches (in this case, 1130 batches). You may need to use the repeat() function when building your dataset.\n",
      "282/282 [==============================] - 38s 133ms/step - loss: 0.7537 - accuracy: 0.7119 - val_loss: 1.7430 - val_accuracy: 0.5012\n",
      "Epoch 2/50\n",
      "282/282 [==============================] - 17s 61ms/step - loss: 0.7528 - accuracy: 0.7138\n",
      "Epoch 3/50\n",
      "282/282 [==============================] - 17s 60ms/step - loss: 0.7498 - accuracy: 0.7203\n",
      "Epoch 4/50\n",
      "282/282 [==============================] - 17s 60ms/step - loss: 0.7313 - accuracy: 0.7247\n",
      "Epoch 5/50\n",
      "282/282 [==============================] - 17s 60ms/step - loss: 0.7576 - accuracy: 0.7145\n",
      "Epoch 6/50\n",
      "282/282 [==============================] - 17s 61ms/step - loss: 0.7356 - accuracy: 0.7230\n",
      "Epoch 7/50\n",
      "282/282 [==============================] - 17s 60ms/step - loss: 0.7491 - accuracy: 0.7150\n",
      "Epoch 8/50\n",
      "282/282 [==============================] - 17s 60ms/step - loss: 0.7343 - accuracy: 0.7206\n",
      "Epoch 9/50\n",
      "282/282 [==============================] - 17s 60ms/step - loss: 0.7451 - accuracy: 0.7142\n",
      "Epoch 10/50\n",
      "282/282 [==============================] - 17s 60ms/step - loss: 0.7453 - accuracy: 0.7155\n",
      "Epoch 11/50\n",
      "282/282 [==============================] - 17s 59ms/step - loss: 0.7274 - accuracy: 0.7217\n",
      "Epoch 12/50\n",
      "282/282 [==============================] - 16s 58ms/step - loss: 0.7349 - accuracy: 0.7180\n",
      "Epoch 13/50\n",
      "282/282 [==============================] - 17s 59ms/step - loss: 0.7310 - accuracy: 0.7267\n",
      "Epoch 14/50\n",
      "282/282 [==============================] - 17s 60ms/step - loss: 0.7385 - accuracy: 0.7153\n",
      "Epoch 15/50\n",
      "282/282 [==============================] - 17s 60ms/step - loss: 0.7174 - accuracy: 0.7250\n",
      "Epoch 16/50\n",
      "282/282 [==============================] - 17s 60ms/step - loss: 0.7393 - accuracy: 0.7171\n",
      "Epoch 17/50\n",
      "282/282 [==============================] - 17s 60ms/step - loss: 0.7354 - accuracy: 0.7261\n",
      "Epoch 18/50\n",
      "282/282 [==============================] - 17s 60ms/step - loss: 0.7110 - accuracy: 0.7292\n",
      "Epoch 19/50\n",
      "282/282 [==============================] - 17s 60ms/step - loss: 0.6973 - accuracy: 0.7348\n",
      "Epoch 20/50\n",
      "282/282 [==============================] - 17s 60ms/step - loss: 0.7255 - accuracy: 0.7241\n",
      "Epoch 21/50\n",
      "282/282 [==============================] - 17s 61ms/step - loss: 0.7229 - accuracy: 0.7206\n",
      "Epoch 22/50\n",
      "282/282 [==============================] - 17s 61ms/step - loss: 0.7274 - accuracy: 0.7296\n",
      "Epoch 23/50\n",
      "282/282 [==============================] - 17s 61ms/step - loss: 0.7207 - accuracy: 0.7301\n",
      "Epoch 24/50\n",
      "282/282 [==============================] - 17s 61ms/step - loss: 0.7046 - accuracy: 0.7326\n",
      "Epoch 25/50\n",
      "282/282 [==============================] - 17s 60ms/step - loss: 0.6893 - accuracy: 0.7427\n",
      "Epoch 26/50\n",
      "282/282 [==============================] - 17s 61ms/step - loss: 0.7021 - accuracy: 0.7351\n",
      "Epoch 27/50\n",
      "282/282 [==============================] - 17s 60ms/step - loss: 0.7301 - accuracy: 0.7221\n",
      "Epoch 28/50\n",
      "282/282 [==============================] - 17s 60ms/step - loss: 0.7215 - accuracy: 0.7282\n",
      "Epoch 29/50\n",
      "282/282 [==============================] - 17s 61ms/step - loss: 0.6969 - accuracy: 0.7358\n",
      "Epoch 30/50\n",
      "282/282 [==============================] - 17s 62ms/step - loss: 0.7225 - accuracy: 0.7291\n",
      "Epoch 31/50\n",
      "282/282 [==============================] - 17s 61ms/step - loss: 0.6834 - accuracy: 0.7420\n",
      "Epoch 32/50\n",
      "282/282 [==============================] - 17s 61ms/step - loss: 0.6904 - accuracy: 0.7400\n",
      "Epoch 33/50\n",
      "282/282 [==============================] - 17s 61ms/step - loss: 0.6951 - accuracy: 0.7362\n",
      "Epoch 34/50\n",
      "282/282 [==============================] - 17s 60ms/step - loss: 0.7065 - accuracy: 0.7312\n",
      "Epoch 35/50\n",
      "282/282 [==============================] - 17s 61ms/step - loss: 0.6935 - accuracy: 0.7415\n",
      "Epoch 36/50\n",
      "282/282 [==============================] - 17s 61ms/step - loss: 0.6835 - accuracy: 0.7431\n",
      "Epoch 37/50\n",
      "282/282 [==============================] - 17s 61ms/step - loss: 0.7057 - accuracy: 0.7315\n",
      "Epoch 38/50\n",
      "282/282 [==============================] - 17s 61ms/step - loss: 0.6779 - accuracy: 0.7391\n",
      "Epoch 39/50\n",
      "282/282 [==============================] - 17s 60ms/step - loss: 0.6989 - accuracy: 0.7329\n",
      "Epoch 40/50\n",
      "282/282 [==============================] - 17s 60ms/step - loss: 0.6984 - accuracy: 0.7379\n",
      "Epoch 41/50\n",
      "282/282 [==============================] - 17s 60ms/step - loss: 0.6826 - accuracy: 0.7393\n",
      "Epoch 42/50\n",
      "282/282 [==============================] - 17s 61ms/step - loss: 0.6769 - accuracy: 0.7382\n",
      "Epoch 43/50\n",
      "282/282 [==============================] - 17s 61ms/step - loss: 0.6665 - accuracy: 0.7447\n",
      "Epoch 44/50\n",
      "282/282 [==============================] - 17s 61ms/step - loss: 0.6684 - accuracy: 0.7489\n",
      "Epoch 45/50\n",
      "282/282 [==============================] - 17s 61ms/step - loss: 0.6819 - accuracy: 0.7396\n",
      "Epoch 46/50\n",
      "282/282 [==============================] - 17s 61ms/step - loss: 0.6906 - accuracy: 0.7393\n",
      "Epoch 47/50\n",
      "282/282 [==============================] - 17s 61ms/step - loss: 0.6943 - accuracy: 0.7357\n",
      "Epoch 48/50\n",
      "282/282 [==============================] - 17s 61ms/step - loss: 0.6817 - accuracy: 0.7434\n",
      "Epoch 49/50\n",
      "282/282 [==============================] - 17s 61ms/step - loss: 0.6698 - accuracy: 0.7513\n",
      "Epoch 50/50\n",
      "282/282 [==============================] - 17s 61ms/step - loss: 0.6713 - accuracy: 0.7448\n"
     ]
    }
   ],
   "source": [
    "expresion_train=model.fit_generator(    \n",
    "                train,    \n",
    "                steps_per_epoch=epoch_steps,    \n",
    "                epochs=50,\n",
    "                validation_data=test,    \n",
    "                validation_steps=test_steps)"
   ]
  },
  {
   "cell_type": "code",
   "execution_count": 46,
   "metadata": {
    "colab": {
     "base_uri": "https://localhost:8080/"
    },
    "executionInfo": {
     "elapsed": 48531,
     "status": "ok",
     "timestamp": 1628213104505,
     "user": {
      "displayName": "Hiesker Tronco",
      "photoUrl": "",
      "userId": "15754113249199284305"
     },
     "user_tz": 300
    },
    "id": "VPQRYAJKAEON",
    "outputId": "96a765c3-34e5-4c30-8433-3389528fe934"
   },
   "outputs": [
    {
     "name": "stderr",
     "output_type": "stream",
     "text": [
      "/usr/local/lib/python3.7/dist-packages/keras/engine/training.py:1948: UserWarning: `Model.evaluate_generator` is deprecated and will be removed in a future version. Please use `Model.evaluate`, which supports generators.\n",
      "  warnings.warn('`Model.evaluate_generator` is deprecated and '\n"
     ]
    },
    {
     "name": "stdout",
     "output_type": "stream",
     "text": [
      "El modelo predice el  74.33240413665771 % de los datos\n"
     ]
    }
   ],
   "source": [
    "test_eval = model.evaluate_generator(train)\n",
    "print('El modelo predice el ', test_eval[1]*100,'% de los datos')"
   ]
  },
  {
   "cell_type": "code",
   "execution_count": 47,
   "metadata": {
    "colab": {
     "base_uri": "https://localhost:8080/"
    },
    "executionInfo": {
     "elapsed": 972390,
     "status": "ok",
     "timestamp": 1628214125623,
     "user": {
      "displayName": "Hiesker Tronco",
      "photoUrl": "",
      "userId": "15754113249199284305"
     },
     "user_tz": 300
    },
    "id": "qqwPORxmD5B3",
    "outputId": "bb10f376-6e79-4b78-f2c3-0d0aa75b9b18"
   },
   "outputs": [
    {
     "name": "stdout",
     "output_type": "stream",
     "text": [
      "Epoch 1/50\n",
      "\r",
      "  1/282 [..............................] - ETA: 25s - loss: 0.3903 - accuracy: 0.8000"
     ]
    },
    {
     "name": "stderr",
     "output_type": "stream",
     "text": [
      "/usr/local/lib/python3.7/dist-packages/keras/engine/training.py:1915: UserWarning: `Model.fit_generator` is deprecated and will be removed in a future version. Please use `Model.fit`, which supports generators.\n",
      "  warnings.warn('`Model.fit_generator` is deprecated and '\n"
     ]
    },
    {
     "name": "stdout",
     "output_type": "stream",
     "text": [
      "282/282 [==============================] - ETA: 0s - loss: 0.6711 - accuracy: 0.7448WARNING:tensorflow:Your input ran out of data; interrupting training. Make sure that your dataset or generator can generate at least `steps_per_epoch * epochs` batches (in this case, 1130 batches). You may need to use the repeat() function when building your dataset.\n",
      "282/282 [==============================] - 37s 133ms/step - loss: 0.6711 - accuracy: 0.7448 - val_loss: 1.9909 - val_accuracy: 0.4946\n",
      "Epoch 2/50\n",
      "282/282 [==============================] - 17s 61ms/step - loss: 0.6535 - accuracy: 0.7511\n",
      "Epoch 3/50\n",
      "282/282 [==============================] - 17s 60ms/step - loss: 0.6580 - accuracy: 0.7495\n",
      "Epoch 4/50\n",
      "282/282 [==============================] - 17s 60ms/step - loss: 0.6533 - accuracy: 0.7479\n",
      "Epoch 5/50\n",
      "282/282 [==============================] - 17s 60ms/step - loss: 0.6637 - accuracy: 0.7509\n",
      "Epoch 6/50\n",
      "282/282 [==============================] - 17s 60ms/step - loss: 0.6451 - accuracy: 0.7530\n",
      "Epoch 7/50\n",
      "282/282 [==============================] - 17s 60ms/step - loss: 0.6527 - accuracy: 0.7470\n",
      "Epoch 8/50\n",
      "282/282 [==============================] - 17s 60ms/step - loss: 0.6743 - accuracy: 0.7473\n",
      "Epoch 9/50\n",
      "282/282 [==============================] - 17s 61ms/step - loss: 0.6651 - accuracy: 0.7489\n",
      "Epoch 10/50\n",
      "282/282 [==============================] - 17s 60ms/step - loss: 0.6721 - accuracy: 0.7422\n",
      "Epoch 11/50\n",
      "282/282 [==============================] - 17s 61ms/step - loss: 0.6709 - accuracy: 0.7403\n",
      "Epoch 12/50\n",
      "282/282 [==============================] - 17s 61ms/step - loss: 0.6609 - accuracy: 0.7471\n",
      "Epoch 13/50\n",
      "282/282 [==============================] - 17s 61ms/step - loss: 0.6568 - accuracy: 0.7465\n",
      "Epoch 14/50\n",
      "282/282 [==============================] - 17s 61ms/step - loss: 0.6501 - accuracy: 0.7586\n",
      "Epoch 15/50\n",
      "282/282 [==============================] - 17s 61ms/step - loss: 0.6470 - accuracy: 0.7533\n",
      "Epoch 16/50\n",
      "282/282 [==============================] - 17s 61ms/step - loss: 0.6411 - accuracy: 0.7559\n",
      "Epoch 17/50\n",
      "282/282 [==============================] - 17s 61ms/step - loss: 0.6504 - accuracy: 0.7475\n",
      "Epoch 18/50\n",
      "282/282 [==============================] - 17s 61ms/step - loss: 0.6356 - accuracy: 0.7605\n",
      "Epoch 19/50\n",
      "282/282 [==============================] - 17s 61ms/step - loss: 0.6529 - accuracy: 0.7532\n",
      "Epoch 20/50\n",
      "282/282 [==============================] - 17s 61ms/step - loss: 0.6480 - accuracy: 0.7557\n",
      "Epoch 21/50\n",
      "282/282 [==============================] - 17s 61ms/step - loss: 0.6186 - accuracy: 0.7638\n",
      "Epoch 22/50\n",
      "282/282 [==============================] - 17s 61ms/step - loss: 0.6549 - accuracy: 0.7535\n",
      "Epoch 23/50\n",
      "282/282 [==============================] - 17s 61ms/step - loss: 0.6482 - accuracy: 0.7559\n",
      "Epoch 24/50\n",
      "282/282 [==============================] - 17s 62ms/step - loss: 0.6326 - accuracy: 0.7535\n",
      "Epoch 25/50\n",
      "282/282 [==============================] - 18s 63ms/step - loss: 0.6316 - accuracy: 0.7606\n",
      "Epoch 26/50\n",
      "282/282 [==============================] - 18s 63ms/step - loss: 0.6565 - accuracy: 0.7530\n",
      "Epoch 27/50\n",
      "282/282 [==============================] - 18s 63ms/step - loss: 0.6444 - accuracy: 0.7501\n",
      "Epoch 28/50\n",
      "282/282 [==============================] - 18s 64ms/step - loss: 0.6404 - accuracy: 0.7603\n",
      "Epoch 29/50\n",
      "282/282 [==============================] - 18s 64ms/step - loss: 0.6276 - accuracy: 0.7613\n",
      "Epoch 30/50\n",
      "282/282 [==============================] - 18s 64ms/step - loss: 0.6402 - accuracy: 0.7529\n",
      "Epoch 31/50\n",
      "282/282 [==============================] - 18s 64ms/step - loss: 0.6113 - accuracy: 0.7677\n",
      "Epoch 32/50\n",
      "282/282 [==============================] - 18s 64ms/step - loss: 0.6141 - accuracy: 0.7725\n",
      "Epoch 33/50\n",
      "282/282 [==============================] - 18s 63ms/step - loss: 0.6234 - accuracy: 0.7601\n",
      "Epoch 34/50\n",
      "282/282 [==============================] - 18s 62ms/step - loss: 0.6128 - accuracy: 0.7675\n",
      "Epoch 35/50\n",
      "282/282 [==============================] - 18s 62ms/step - loss: 0.6300 - accuracy: 0.7621\n",
      "Epoch 36/50\n",
      "282/282 [==============================] - 17s 62ms/step - loss: 0.6106 - accuracy: 0.7722\n",
      "Epoch 37/50\n",
      "282/282 [==============================] - 18s 64ms/step - loss: 0.6390 - accuracy: 0.7555\n",
      "Epoch 38/50\n",
      "282/282 [==============================] - 18s 62ms/step - loss: 0.6186 - accuracy: 0.7617\n",
      "Epoch 39/50\n",
      "282/282 [==============================] - 18s 63ms/step - loss: 0.6395 - accuracy: 0.7600\n",
      "Epoch 40/50\n",
      "282/282 [==============================] - 17s 62ms/step - loss: 0.6189 - accuracy: 0.7631\n",
      "Epoch 41/50\n",
      "282/282 [==============================] - 18s 63ms/step - loss: 0.6135 - accuracy: 0.7668\n",
      "Epoch 42/50\n",
      "282/282 [==============================] - 18s 64ms/step - loss: 0.6109 - accuracy: 0.7670\n",
      "Epoch 43/50\n",
      "282/282 [==============================] - 18s 63ms/step - loss: 0.6156 - accuracy: 0.7660\n",
      "Epoch 44/50\n",
      "282/282 [==============================] - 17s 62ms/step - loss: 0.6227 - accuracy: 0.7621\n",
      "Epoch 45/50\n",
      "282/282 [==============================] - 18s 62ms/step - loss: 0.6102 - accuracy: 0.7705\n",
      "Epoch 46/50\n",
      "282/282 [==============================] - 18s 62ms/step - loss: 0.6006 - accuracy: 0.7738\n",
      "Epoch 47/50\n",
      "282/282 [==============================] - 18s 62ms/step - loss: 0.5973 - accuracy: 0.7770\n",
      "Epoch 48/50\n",
      "282/282 [==============================] - 18s 62ms/step - loss: 0.5986 - accuracy: 0.7750\n",
      "Epoch 49/50\n",
      "282/282 [==============================] - 18s 63ms/step - loss: 0.6290 - accuracy: 0.7630\n",
      "Epoch 50/50\n",
      "282/282 [==============================] - 18s 62ms/step - loss: 0.6057 - accuracy: 0.7687\n"
     ]
    }
   ],
   "source": [
    "expresion_train=model.fit_generator(    \n",
    "                train,    \n",
    "                steps_per_epoch=epoch_steps,    \n",
    "                epochs=50,\n",
    "                validation_data=test,    \n",
    "                validation_steps=test_steps)\n"
   ]
  },
  {
   "cell_type": "code",
   "execution_count": 48,
   "metadata": {
    "colab": {
     "base_uri": "https://localhost:8080/"
    },
    "executionInfo": {
     "elapsed": 974719,
     "status": "ok",
     "timestamp": 1628215169103,
     "user": {
      "displayName": "Hiesker Tronco",
      "photoUrl": "",
      "userId": "15754113249199284305"
     },
     "user_tz": 300
    },
    "id": "TlGtUQrrEQwB",
    "outputId": "835df433-9ced-4d0e-c3ea-c41be60630d7"
   },
   "outputs": [
    {
     "name": "stdout",
     "output_type": "stream",
     "text": [
      "Epoch 1/50\n",
      "\r",
      "  1/282 [..............................] - ETA: 28s - loss: 0.5233 - accuracy: 0.8000"
     ]
    },
    {
     "name": "stderr",
     "output_type": "stream",
     "text": [
      "/usr/local/lib/python3.7/dist-packages/keras/engine/training.py:1915: UserWarning: `Model.fit_generator` is deprecated and will be removed in a future version. Please use `Model.fit`, which supports generators.\n",
      "  warnings.warn('`Model.fit_generator` is deprecated and '\n"
     ]
    },
    {
     "name": "stdout",
     "output_type": "stream",
     "text": [
      "282/282 [==============================] - ETA: 0s - loss: 0.6081 - accuracy: 0.7665WARNING:tensorflow:Your input ran out of data; interrupting training. Make sure that your dataset or generator can generate at least `steps_per_epoch * epochs` batches (in this case, 1130 batches). You may need to use the repeat() function when building your dataset.\n",
      "282/282 [==============================] - 30s 105ms/step - loss: 0.6081 - accuracy: 0.7665 - val_loss: 2.2662 - val_accuracy: 0.4946\n",
      "Epoch 2/50\n",
      "282/282 [==============================] - 17s 62ms/step - loss: 0.5911 - accuracy: 0.7755\n",
      "Epoch 3/50\n",
      "282/282 [==============================] - 17s 61ms/step - loss: 0.6014 - accuracy: 0.7772\n",
      "Epoch 4/50\n",
      "282/282 [==============================] - 18s 62ms/step - loss: 0.5946 - accuracy: 0.7697\n",
      "Epoch 5/50\n",
      "282/282 [==============================] - 18s 62ms/step - loss: 0.6017 - accuracy: 0.7712\n",
      "Epoch 6/50\n",
      "282/282 [==============================] - 17s 62ms/step - loss: 0.6103 - accuracy: 0.7706\n",
      "Epoch 7/50\n",
      "282/282 [==============================] - 18s 63ms/step - loss: 0.6249 - accuracy: 0.7648\n",
      "Epoch 8/50\n",
      "282/282 [==============================] - 17s 62ms/step - loss: 0.5820 - accuracy: 0.7851\n",
      "Epoch 9/50\n",
      "282/282 [==============================] - 17s 62ms/step - loss: 0.6025 - accuracy: 0.7701\n",
      "Epoch 10/50\n",
      "282/282 [==============================] - 18s 64ms/step - loss: 0.5969 - accuracy: 0.7712\n",
      "Epoch 11/50\n",
      "282/282 [==============================] - 19s 67ms/step - loss: 0.6075 - accuracy: 0.7696\n",
      "Epoch 12/50\n",
      "282/282 [==============================] - 18s 63ms/step - loss: 0.5857 - accuracy: 0.7801\n",
      "Epoch 13/50\n",
      "282/282 [==============================] - 17s 62ms/step - loss: 0.6034 - accuracy: 0.7677\n",
      "Epoch 14/50\n",
      "282/282 [==============================] - 18s 62ms/step - loss: 0.5815 - accuracy: 0.7784\n",
      "Epoch 15/50\n",
      "282/282 [==============================] - 17s 62ms/step - loss: 0.5907 - accuracy: 0.7756\n",
      "Epoch 16/50\n",
      "282/282 [==============================] - 18s 62ms/step - loss: 0.6082 - accuracy: 0.7687\n",
      "Epoch 17/50\n",
      "282/282 [==============================] - 18s 62ms/step - loss: 0.5705 - accuracy: 0.7838\n",
      "Epoch 18/50\n",
      "282/282 [==============================] - 18s 62ms/step - loss: 0.6028 - accuracy: 0.7772\n",
      "Epoch 19/50\n",
      "282/282 [==============================] - 18s 63ms/step - loss: 0.5833 - accuracy: 0.7793\n",
      "Epoch 20/50\n",
      "282/282 [==============================] - 18s 62ms/step - loss: 0.5730 - accuracy: 0.7856\n",
      "Epoch 21/50\n",
      "282/282 [==============================] - 18s 62ms/step - loss: 0.5670 - accuracy: 0.7852\n",
      "Epoch 22/50\n",
      "282/282 [==============================] - 18s 62ms/step - loss: 0.5899 - accuracy: 0.7801\n",
      "Epoch 23/50\n",
      "282/282 [==============================] - 18s 64ms/step - loss: 0.5754 - accuracy: 0.7852\n",
      "Epoch 24/50\n",
      "282/282 [==============================] - 18s 62ms/step - loss: 0.5740 - accuracy: 0.7821\n",
      "Epoch 25/50\n",
      "282/282 [==============================] - 17s 61ms/step - loss: 0.5945 - accuracy: 0.7778\n",
      "Epoch 26/50\n",
      "282/282 [==============================] - 18s 63ms/step - loss: 0.5719 - accuracy: 0.7814\n",
      "Epoch 27/50\n",
      "282/282 [==============================] - 18s 62ms/step - loss: 0.5955 - accuracy: 0.7774\n",
      "Epoch 28/50\n",
      "282/282 [==============================] - 18s 62ms/step - loss: 0.5728 - accuracy: 0.7814\n",
      "Epoch 29/50\n",
      "282/282 [==============================] - 18s 62ms/step - loss: 0.5886 - accuracy: 0.7743\n",
      "Epoch 30/50\n",
      "282/282 [==============================] - 17s 62ms/step - loss: 0.5766 - accuracy: 0.7787\n",
      "Epoch 31/50\n",
      "282/282 [==============================] - 18s 62ms/step - loss: 0.5662 - accuracy: 0.7809\n",
      "Epoch 32/50\n",
      "282/282 [==============================] - 18s 62ms/step - loss: 0.5569 - accuracy: 0.7940\n",
      "Epoch 33/50\n",
      "282/282 [==============================] - 18s 63ms/step - loss: 0.5587 - accuracy: 0.7904\n",
      "Epoch 34/50\n",
      "282/282 [==============================] - 18s 63ms/step - loss: 0.5674 - accuracy: 0.7848\n",
      "Epoch 35/50\n",
      "282/282 [==============================] - 18s 63ms/step - loss: 0.5573 - accuracy: 0.7905\n",
      "Epoch 36/50\n",
      "282/282 [==============================] - 18s 63ms/step - loss: 0.5623 - accuracy: 0.7845\n",
      "Epoch 37/50\n",
      "282/282 [==============================] - 18s 63ms/step - loss: 0.5459 - accuracy: 0.7921\n",
      "Epoch 38/50\n",
      "282/282 [==============================] - 18s 63ms/step - loss: 0.5709 - accuracy: 0.7869\n",
      "Epoch 39/50\n",
      "282/282 [==============================] - 18s 63ms/step - loss: 0.5918 - accuracy: 0.7767\n",
      "Epoch 40/50\n",
      "282/282 [==============================] - 18s 63ms/step - loss: 0.5700 - accuracy: 0.7834\n",
      "Epoch 41/50\n",
      "282/282 [==============================] - 18s 63ms/step - loss: 0.5536 - accuracy: 0.7895\n",
      "Epoch 42/50\n",
      "282/282 [==============================] - 18s 63ms/step - loss: 0.5734 - accuracy: 0.7816\n",
      "Epoch 43/50\n",
      "282/282 [==============================] - 18s 64ms/step - loss: 0.5612 - accuracy: 0.7825\n",
      "Epoch 44/50\n",
      "282/282 [==============================] - 18s 63ms/step - loss: 0.5617 - accuracy: 0.7865\n",
      "Epoch 45/50\n",
      "282/282 [==============================] - 18s 63ms/step - loss: 0.5538 - accuracy: 0.7912\n",
      "Epoch 46/50\n",
      "282/282 [==============================] - 18s 63ms/step - loss: 0.5711 - accuracy: 0.7814\n",
      "Epoch 47/50\n",
      "282/282 [==============================] - 18s 63ms/step - loss: 0.5572 - accuracy: 0.7883\n",
      "Epoch 48/50\n",
      "282/282 [==============================] - 18s 62ms/step - loss: 0.5593 - accuracy: 0.7877\n",
      "Epoch 49/50\n",
      "282/282 [==============================] - 18s 63ms/step - loss: 0.5514 - accuracy: 0.7912\n",
      "Epoch 50/50\n",
      "282/282 [==============================] - 18s 62ms/step - loss: 0.5966 - accuracy: 0.7743\n"
     ]
    }
   ],
   "source": [
    "expresion_train=model.fit_generator(    \n",
    "                train,    \n",
    "                steps_per_epoch=epoch_steps,    \n",
    "                epochs=50,\n",
    "                validation_data=test,    \n",
    "                validation_steps=test_steps)\n"
   ]
  },
  {
   "cell_type": "code",
   "execution_count": 49,
   "metadata": {
    "colab": {
     "base_uri": "https://localhost:8080/"
    },
    "executionInfo": {
     "elapsed": 50374,
     "status": "ok",
     "timestamp": 1628215238238,
     "user": {
      "displayName": "Hiesker Tronco",
      "photoUrl": "",
      "userId": "15754113249199284305"
     },
     "user_tz": 300
    },
    "id": "Ziba4ix2IO-D",
    "outputId": "91becb82-ac55-42db-8c06-431db4c5021c"
   },
   "outputs": [
    {
     "name": "stderr",
     "output_type": "stream",
     "text": [
      "/usr/local/lib/python3.7/dist-packages/keras/engine/training.py:1948: UserWarning: `Model.evaluate_generator` is deprecated and will be removed in a future version. Please use `Model.evaluate`, which supports generators.\n",
      "  warnings.warn('`Model.evaluate_generator` is deprecated and '\n"
     ]
    },
    {
     "name": "stdout",
     "output_type": "stream",
     "text": [
      "El modelo predice el  80.85806369781494 % de los datos\n"
     ]
    }
   ],
   "source": [
    "test_eval = model.evaluate_generator(train)\n",
    "print('El modelo predice el ', test_eval[1]*100,'% de los datos')"
   ]
  },
  {
   "cell_type": "code",
   "execution_count": 50,
   "metadata": {
    "colab": {
     "base_uri": "https://localhost:8080/"
    },
    "executionInfo": {
     "elapsed": 170,
     "status": "ok",
     "timestamp": 1628215381249,
     "user": {
      "displayName": "Hiesker Tronco",
      "photoUrl": "",
      "userId": "15754113249199284305"
     },
     "user_tz": 300
    },
    "id": "oR6Cp4htMsCb",
    "outputId": "1de02a56-1639-47c1-aa6d-eb4eda38c5a1"
   },
   "outputs": [
    {
     "name": "stdout",
     "output_type": "stream",
     "text": [
      "Modelo Guardado!\n"
     ]
    }
   ],
   "source": [
    "model.save('delfin2.h5')\n",
    "\n",
    "from keras.models import model_from_json\n",
    "# serializar el modelo a JSON\n",
    "model_json = model.to_json()\n",
    "with open(\"modelexpresiones2.json\", \"w\") as json_file:\n",
    "    json_file.write(model_json)\n",
    "# serializar los pesos a HDF5\n",
    "model.save_weights(\"pesosexpresione2.h5\")\n",
    "print(\"Modelo Guardado!\")"
   ]
  },
  {
   "cell_type": "code",
   "execution_count": 52,
   "metadata": {
    "colab": {
     "base_uri": "https://localhost:8080/"
    },
    "executionInfo": {
     "elapsed": 215,
     "status": "ok",
     "timestamp": 1628215551807,
     "user": {
      "displayName": "Hiesker Tronco",
      "photoUrl": "",
      "userId": "15754113249199284305"
     },
     "user_tz": 300
    },
    "id": "sy6GlyZRMwsu",
    "outputId": "18ee5059-b122-439d-8760-a3f12b7d69f6"
   },
   "outputs": [
    {
     "data": {
      "text/plain": [
       "<bound method Sequential.predict_classes of <keras.engine.sequential.Sequential object at 0x7fcc659f8f50>>"
      ]
     },
     "execution_count": 52,
     "metadata": {
      "tags": []
     },
     "output_type": "execute_result"
    }
   ],
   "source": [
    "model.predict_classes"
   ]
  },
  {
   "cell_type": "code",
   "execution_count": 53,
   "metadata": {
    "colab": {
     "base_uri": "https://localhost:8080/"
    },
    "executionInfo": {
     "elapsed": 1897,
     "status": "ok",
     "timestamp": 1628215725513,
     "user": {
      "displayName": "Hiesker Tronco",
      "photoUrl": "",
      "userId": "15754113249199284305"
     },
     "user_tz": 300
    },
    "id": "nBdN8i9UNYEQ",
    "outputId": "70755a04-551f-4418-8779-08a48ca73e56"
   },
   "outputs": [
    {
     "data": {
      "text/plain": [
       "{'Angry': 0, 'Fear': 1, 'Happy': 2, 'Neutral': 3, 'Sad': 4, 'Suprise': 5}"
      ]
     },
     "execution_count": 53,
     "metadata": {
      "tags": []
     },
     "output_type": "execute_result"
    }
   ],
   "source": [
    "train.class_indices"
   ]
  },
  {
   "cell_type": "code",
   "execution_count": 54,
   "metadata": {
    "colab": {
     "base_uri": "https://localhost:8080/"
    },
    "executionInfo": {
     "elapsed": 181,
     "status": "ok",
     "timestamp": 1628216187727,
     "user": {
      "displayName": "Hiesker Tronco",
      "photoUrl": "",
      "userId": "15754113249199284305"
     },
     "user_tz": 300
    },
    "id": "VYvzGYFcOEKW",
    "outputId": "a53c956e-d03f-4c12-bc45-a7a509a43465"
   },
   "outputs": [
    {
     "data": {
      "text/plain": [
       "{'accuracy': [0.7665248513221741,\n",
       "  0.7754610180854797,\n",
       "  0.7772417664527893,\n",
       "  0.7697219252586365,\n",
       "  0.7712056636810303,\n",
       "  0.7705731987953186,\n",
       "  0.7648227214813232,\n",
       "  0.785106360912323,\n",
       "  0.7701475620269775,\n",
       "  0.7712056636810303,\n",
       "  0.7696453928947449,\n",
       "  0.7800794839859009,\n",
       "  0.7677355408668518,\n",
       "  0.7784397006034851,\n",
       "  0.7756028175354004,\n",
       "  0.7686524987220764,\n",
       "  0.7837684154510498,\n",
       "  0.7772417664527893,\n",
       "  0.7792907953262329,\n",
       "  0.785612940788269,\n",
       "  0.7852482199668884,\n",
       "  0.7801418304443359,\n",
       "  0.785187304019928,\n",
       "  0.7821276783943176,\n",
       "  0.7778093218803406,\n",
       "  0.7814184427261353,\n",
       "  0.7774468064308167,\n",
       "  0.7814184427261353,\n",
       "  0.7743262648582458,\n",
       "  0.778723418712616,\n",
       "  0.7808510661125183,\n",
       "  0.7939841151237488,\n",
       "  0.7903546094894409,\n",
       "  0.7848227024078369,\n",
       "  0.7904964685440063,\n",
       "  0.784538984298706,\n",
       "  0.7920567393302917,\n",
       "  0.786889910697937,\n",
       "  0.776674211025238,\n",
       "  0.7834042310714722,\n",
       "  0.7895035743713379,\n",
       "  0.7815603017807007,\n",
       "  0.7824915051460266,\n",
       "  0.7865248322486877,\n",
       "  0.791205644607544,\n",
       "  0.7814184427261353,\n",
       "  0.7883087396621704,\n",
       "  0.7876595854759216,\n",
       "  0.791205644607544,\n",
       "  0.7743262648582458],\n",
       " 'loss': [0.6081032752990723,\n",
       "  0.5910698771476746,\n",
       "  0.6013562083244324,\n",
       "  0.5945515036582947,\n",
       "  0.6016921997070312,\n",
       "  0.6103212237358093,\n",
       "  0.6248825192451477,\n",
       "  0.5820373892784119,\n",
       "  0.6025289297103882,\n",
       "  0.5968722701072693,\n",
       "  0.6074625849723816,\n",
       "  0.5857031941413879,\n",
       "  0.6034051179885864,\n",
       "  0.5815218687057495,\n",
       "  0.5907428860664368,\n",
       "  0.6081815958023071,\n",
       "  0.5704920887947083,\n",
       "  0.6028066873550415,\n",
       "  0.5833098292350769,\n",
       "  0.5730359554290771,\n",
       "  0.5670081973075867,\n",
       "  0.5899078249931335,\n",
       "  0.575374960899353,\n",
       "  0.5739883780479431,\n",
       "  0.594495952129364,\n",
       "  0.571931004524231,\n",
       "  0.595461905002594,\n",
       "  0.5728071331977844,\n",
       "  0.5886221528053284,\n",
       "  0.5766041874885559,\n",
       "  0.5662475824356079,\n",
       "  0.5568940043449402,\n",
       "  0.5586908459663391,\n",
       "  0.5674245357513428,\n",
       "  0.5573016405105591,\n",
       "  0.5623056292533875,\n",
       "  0.545943021774292,\n",
       "  0.5709068775177002,\n",
       "  0.5917678475379944,\n",
       "  0.570040225982666,\n",
       "  0.553647518157959,\n",
       "  0.5733662843704224,\n",
       "  0.5612219572067261,\n",
       "  0.5617169737815857,\n",
       "  0.5537728667259216,\n",
       "  0.5710819959640503,\n",
       "  0.5571936368942261,\n",
       "  0.5593236684799194,\n",
       "  0.5514175295829773,\n",
       "  0.596633791923523],\n",
       " 'val_accuracy': [0.4945521354675293],\n",
       " 'val_loss': [2.26617169380188]}"
      ]
     },
     "execution_count": 54,
     "metadata": {
      "tags": []
     },
     "output_type": "execute_result"
    }
   ],
   "source": [
    "expresion_train.history"
   ]
  },
  {
   "cell_type": "code",
   "execution_count": 55,
   "metadata": {
    "executionInfo": {
     "elapsed": 367,
     "status": "ok",
     "timestamp": 1628216598221,
     "user": {
      "displayName": "Hiesker Tronco",
      "photoUrl": "",
      "userId": "15754113249199284305"
     },
     "user_tz": 300
    },
    "id": "QF_OS1XwP1jt"
   },
   "outputs": [],
   "source": [
    "from PIL import Image"
   ]
  },
  {
   "cell_type": "code",
   "execution_count": 80,
   "metadata": {
    "colab": {
     "base_uri": "https://localhost:8080/",
     "height": 408
    },
    "executionInfo": {
     "elapsed": 519,
     "status": "ok",
     "timestamp": 1628218192571,
     "user": {
      "displayName": "Hiesker Tronco",
      "photoUrl": "",
      "userId": "15754113249199284305"
     },
     "user_tz": 300
    },
    "id": "9FhKEfgyRZuB",
    "outputId": "7ecdda7e-1e86-4cc0-d333-09f0e6ae02ab"
   },
   "outputs": [
    {
     "name": "stdout",
     "output_type": "stream",
     "text": [
      "(48, 48)\n",
      "La clase a que pertenece es:  [0]\n",
      "La probabilidad de que pertenezca a cada clase es : [[9.4742727e-01 1.1958455e-02 7.2646853e-06 3.5361601e-03 3.7070997e-02\n",
      "  3.7137124e-08]]\n"
     ]
    },
    {
     "name": "stderr",
     "output_type": "stream",
     "text": [
      "/usr/local/lib/python3.7/dist-packages/keras/engine/sequential.py:450: UserWarning: `model.predict_classes()` is deprecated and will be removed after 2021-01-01. Please use instead:* `np.argmax(model.predict(x), axis=-1)`,   if your model does multi-class classification   (e.g. if it uses a `softmax` last-layer activation).* `(model.predict(x) > 0.5).astype(\"int32\")`,   if your model does binary classification   (e.g. if it uses a `sigmoid` last-layer activation).\n",
      "  warnings.warn('`model.predict_classes()` is deprecated and '\n"
     ]
    },
    {
     "data": {
      "text/plain": [
       "<matplotlib.image.AxesImage at 0x7fcc69d6d710>"
      ]
     },
     "execution_count": 80,
     "metadata": {
      "tags": []
     },
     "output_type": "execute_result"
    },
    {
     "data": {
      "image/png": "[encoded data removed]",
      "text/plain": [
       "<Figure size 432x288 with 1 Axes>"
      ]
     },
     "metadata": {
      "needs_background": "light",
      "tags": []
     },
     "output_type": "display_data"
    }
   ],
   "source": [
    "image=Image.open('/content/drive/MyDrive/archive.zip (Unzipped Files)/Expresiones/delfin/angry1.jpg').convert('L')\n",
    "new_img = image.resize((48,48))#Redimencionamos todas las imagenes a un mismo tamaño\n",
    "new_img.save('s.png','png')#Las guardamos\n",
    "x = plt.imread('s.png')\n",
    "print(x.shape)\n",
    "x= np.expand_dims(x, axis=2)\n",
    "x= np.expand_dims(x, axis=0)\n",
    "y=model.predict_classes(x)\n",
    "y1=model.predict(x)\n",
    "print('La clase a que pertenece es: ',y)\n",
    "print('La probabilidad de que pertenezca a cada clase es :',y1)\n",
    "#print('La flor es un: ',flores[y[0]])\n",
    "plt.imshow(image)"
   ]
  },
  {
   "cell_type": "code",
   "execution_count": null,
   "metadata": {
    "id": "LhSBP7OdR1Lb"
   },
   "outputs": [],
   "source": []
  }
 ],
 "metadata": {
  "colab": {
   "authorship_tag": "ABX9TyPOstCCGyc532OEuwEDhX03",
   "collapsed_sections": [],
   "mount_file_id": "1VsCqkcY5Edkpi9Coi2la3GQyJxdJIHAj",
   "name": "Delfin.ipynb",
   "provenance": []
  },
  "kernelspec": {
   "display_name": "Python 3",
   "language": "python",
   "name": "python3"
  },
  "language_info": {
   "codemirror_mode": {
    "name": "ipython",
    "version": 3
   },
   "file_extension": ".py",
   "mimetype": "text/x-python",
   "name": "python",
   "nbconvert_exporter": "python",
   "pygments_lexer": "ipython3",
   "version": "3.6.9"
  }
 },
 "nbformat": 4,
 "nbformat_minor": 1
}
